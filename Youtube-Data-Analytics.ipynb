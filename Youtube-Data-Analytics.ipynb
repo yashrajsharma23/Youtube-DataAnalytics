{
 "cells": [
  {
   "cell_type": "code",
   "execution_count": 1,
   "metadata": {},
   "outputs": [],
   "source": [
    "#!pip install --upgrade google-api-python-client\n",
    "#!pip install --upgrade google-api-python-client\n",
    "#!pip install progressbar \n",
    "#!pip install googletrans\n",
    "#!pip install vaderSentiment"
   ]
  },
  {
   "cell_type": "markdown",
   "metadata": {},
   "source": [
    "## 1) Libraries"
   ]
  },
  {
   "cell_type": "code",
   "execution_count": 135,
   "metadata": {},
   "outputs": [],
   "source": [
    "import pandas as pd\n",
    "from apiclient.discovery import build\n",
    "from oauth2client.service_account import ServiceAccountCredentials\n",
    "import asyncio\n",
    "import progressbar\n",
    "import time\n",
    "import os.path\n",
    "\n",
    "import seaborn as sb\n",
    "import matplotlib.pyplot as plt\n",
    "\n",
    "from google_trans_new import google_translator  \n",
    "from vaderSentiment.vaderSentiment import SentimentIntensityAnalyzer\n",
    "\n",
    "import string\n",
    "import re"
   ]
  },
  {
   "cell_type": "markdown",
   "metadata": {},
   "source": [
    "## 2) Loading Dataset"
   ]
  },
  {
   "cell_type": "code",
   "execution_count": 78,
   "metadata": {
    "scrolled": true
   },
   "outputs": [
    {
     "data": {
      "text/html": [
       "<div>\n",
       "<style scoped>\n",
       "    .dataframe tbody tr th:only-of-type {\n",
       "        vertical-align: middle;\n",
       "    }\n",
       "\n",
       "    .dataframe tbody tr th {\n",
       "        vertical-align: top;\n",
       "    }\n",
       "\n",
       "    .dataframe thead th {\n",
       "        text-align: right;\n",
       "    }\n",
       "</style>\n",
       "<table border=\"1\" class=\"dataframe\">\n",
       "  <thead>\n",
       "    <tr style=\"text-align: right;\">\n",
       "      <th></th>\n",
       "      <th>youtubeId</th>\n",
       "      <th>movieId</th>\n",
       "      <th>title</th>\n",
       "    </tr>\n",
       "  </thead>\n",
       "  <tbody>\n",
       "    <tr>\n",
       "      <th>0</th>\n",
       "      <td>K26_sDKnvMU</td>\n",
       "      <td>1</td>\n",
       "      <td>Toy Story (1995)</td>\n",
       "    </tr>\n",
       "    <tr>\n",
       "      <th>1</th>\n",
       "      <td>3LPANjHlPxo</td>\n",
       "      <td>2</td>\n",
       "      <td>Jumanji (1995)</td>\n",
       "    </tr>\n",
       "    <tr>\n",
       "      <th>2</th>\n",
       "      <td>rEnOoWs3FuA</td>\n",
       "      <td>3</td>\n",
       "      <td>Grumpier Old Men (1995)</td>\n",
       "    </tr>\n",
       "    <tr>\n",
       "      <th>3</th>\n",
       "      <td>j9xml1CxgXI</td>\n",
       "      <td>4</td>\n",
       "      <td>Waiting to Exhale (1995)</td>\n",
       "    </tr>\n",
       "    <tr>\n",
       "      <th>4</th>\n",
       "      <td>ltwvKLnj1B4</td>\n",
       "      <td>5</td>\n",
       "      <td>Father of the Bride Part II (1995)</td>\n",
       "    </tr>\n",
       "    <tr>\n",
       "      <th>...</th>\n",
       "      <td>...</td>\n",
       "      <td>...</td>\n",
       "      <td>...</td>\n",
       "    </tr>\n",
       "    <tr>\n",
       "      <th>25618</th>\n",
       "      <td>-oB6DN5dYWo</td>\n",
       "      <td>131252</td>\n",
       "      <td>Forklift Driver Klaus: The First Day on the Jo...</td>\n",
       "    </tr>\n",
       "    <tr>\n",
       "      <th>25619</th>\n",
       "      <td>DK7KQ-gEdl4</td>\n",
       "      <td>131256</td>\n",
       "      <td>Feuer, Eis &amp; Dosenbier (2002)</td>\n",
       "    </tr>\n",
       "    <tr>\n",
       "      <th>25620</th>\n",
       "      <td>v29P-wchMZQ</td>\n",
       "      <td>131258</td>\n",
       "      <td>The Pirates (2014)</td>\n",
       "    </tr>\n",
       "    <tr>\n",
       "      <th>25621</th>\n",
       "      <td>dAz-nZ65jYU</td>\n",
       "      <td>131260</td>\n",
       "      <td>Rentun Ruusu (2001)</td>\n",
       "    </tr>\n",
       "    <tr>\n",
       "      <th>25622</th>\n",
       "      <td>YWmbl_7VVYk</td>\n",
       "      <td>131262</td>\n",
       "      <td>Innocence (2014)</td>\n",
       "    </tr>\n",
       "  </tbody>\n",
       "</table>\n",
       "<p>25623 rows × 3 columns</p>\n",
       "</div>"
      ],
      "text/plain": [
       "         youtubeId  movieId                                              title\n",
       "0      K26_sDKnvMU        1                                   Toy Story (1995)\n",
       "1      3LPANjHlPxo        2                                     Jumanji (1995)\n",
       "2      rEnOoWs3FuA        3                            Grumpier Old Men (1995)\n",
       "3      j9xml1CxgXI        4                           Waiting to Exhale (1995)\n",
       "4      ltwvKLnj1B4        5                 Father of the Bride Part II (1995)\n",
       "...            ...      ...                                                ...\n",
       "25618  -oB6DN5dYWo   131252  Forklift Driver Klaus: The First Day on the Jo...\n",
       "25619  DK7KQ-gEdl4   131256                      Feuer, Eis & Dosenbier (2002)\n",
       "25620  v29P-wchMZQ   131258                                 The Pirates (2014)\n",
       "25621  dAz-nZ65jYU   131260                                Rentun Ruusu (2001)\n",
       "25622  YWmbl_7VVYk   131262                                   Innocence (2014)\n",
       "\n",
       "[25623 rows x 3 columns]"
      ]
     },
     "execution_count": 78,
     "metadata": {},
     "output_type": "execute_result"
    }
   ],
   "source": [
    "df= pd.read_csv(\"vdoLinks.csv\")\n",
    "df"
   ]
  },
  {
   "cell_type": "markdown",
   "metadata": {},
   "source": [
    "## 3) Initializing Google Youtube Api service"
   ]
  },
  {
   "cell_type": "markdown",
   "metadata": {},
   "source": [
    "1) Service to fetch likes, dislikes, view count, duration, and comment count"
   ]
  },
  {
   "cell_type": "code",
   "execution_count": 79,
   "metadata": {},
   "outputs": [],
   "source": [
    "def get_service(api_name, api_version, scopes, key_file_location):\n",
    "    credentials = ServiceAccountCredentials.from_json_keyfile_name(\n",
    "        key_file_location, scopes=scopes)\n",
    "    \n",
    "    # Build the service object.\n",
    "    service = build(api_name, api_version, credentials=credentials)\n",
    "    return service\n"
   ]
  },
  {
   "cell_type": "code",
   "execution_count": 80,
   "metadata": {},
   "outputs": [],
   "source": [
    "CLIENT_SECRET_FILE = \"youtube-analytics-secret.json\"  # Google Cloud console; Service Account .json file\n",
    "API_NAME = \"youtube\"\n",
    "API_VERSION = \"v3\"\n",
    "\n",
    "SCOPES = 'https://www.googleapis.com/auth/youtube'\n",
    "\n",
    "youtube_service = get_service(API_NAME, API_VERSION, SCOPES, CLIENT_SECRET_FILE)"
   ]
  },
  {
   "cell_type": "markdown",
   "metadata": {},
   "source": [
    "2) Service to fetch Youtube comments"
   ]
  },
  {
   "cell_type": "code",
   "execution_count": 81,
   "metadata": {},
   "outputs": [],
   "source": [
    "DEVELOPER_KEY = \"Google-Cloud-Console-YOUTUBE V3 API-KEY\" \n",
    "\n",
    "youtube_comments = build(API_NAME,API_VERSION,developerKey=DEVELOPER_KEY)"
   ]
  },
  {
   "cell_type": "code",
   "execution_count": 82,
   "metadata": {},
   "outputs": [],
   "source": [
    "part_string = 'contentDetails, statistics, snippet' #Snippet contains all important details of video"
   ]
  },
  {
   "cell_type": "markdown",
   "metadata": {},
   "source": [
    "## 4) Initializing Dataframe to store extracted Youtube data"
   ]
  },
  {
   "cell_type": "code",
   "execution_count": 83,
   "metadata": {},
   "outputs": [],
   "source": [
    "df_extracted = pd.DataFrame(columns=['YoutubeId',#'MovieId',\n",
    "                                     'Title', 'Description', 'comments',\n",
    "                            'View_Count','like_Count','Dislike_Count','Comment_Count',\n",
    "                            'Duration','Fav_Count'])\n",
    "df_error_ids = pd.DataFrame(columns=['youtubeId','movieId','title','error'])"
   ]
  },
  {
   "cell_type": "markdown",
   "metadata": {},
   "source": [
    "## 5) Extracting Youtube data"
   ]
  },
  {
   "cell_type": "code",
   "execution_count": 84,
   "metadata": {},
   "outputs": [],
   "source": [
    "async def fetchingData(video_ids, df_, youtube, prev, x):\n",
    "    video_response = youtube_service.videos().list(part=part_string, id=video_ids.tolist()).execute()\n",
    "    widgets = ['Loading ===> ',str(prev),' to ',str(x),' data : ', progressbar.AnimatedMarker()]\n",
    "    bar = progressbar.ProgressBar(widgets=widgets).start()\n",
    "    try:\n",
    "        # retrieve youtube video results\n",
    "        item_count = 0\n",
    "\n",
    "        for i in video_response['items']:\n",
    "            # iterate video response\n",
    "            comments_dict = {}\n",
    "            replies = []\n",
    "            comments = []\n",
    "\n",
    "            try:\n",
    "                video_comments = youtube.commentThreads().list(part='snippet,replies', videoId=i['id']).execute()\n",
    "\n",
    "                comment_count = 1\n",
    "                while video_comments:\n",
    "\n",
    "                    for item in video_comments['items']:\n",
    "                        if comment_count > 100:\n",
    "                            break\n",
    "\n",
    "                        # Extracting comments\n",
    "                        comment = item['snippet']['topLevelComment']['snippet']['textDisplay']\n",
    "                        comments.append(comment)\n",
    "\n",
    "                        replycount = item['snippet']['totalReplyCount']\n",
    "                        if replycount > 0:\n",
    "                            for reply in item['replies']['comments']:\n",
    "                                reply = reply['snippet']['textDisplay']\n",
    "                                replies.append(reply)\n",
    "\n",
    "                        comment_count += 1\n",
    "                        # Again repeat\n",
    "                    if 'nextPageToken' in video_comments:\n",
    "                        video_comments = youtube.commentThreads().list(part='snippet,replies', videoId=i['id']).execute()\n",
    "                    else:\n",
    "                        break\n",
    "                    if comment_count > 100:\n",
    "                        break\n",
    "\n",
    "            except Exception as e:\n",
    "                replies = []\n",
    "                comments = []\n",
    "\n",
    "            comments_dict['comments'] = comments\n",
    "            comments_dict['replies'] = replies\n",
    "\n",
    "            likeCount = 0\n",
    "            viewCount = 0\n",
    "            dislikeCount = 0\n",
    "            commentCount = 0\n",
    "            duration = 0\n",
    "            favoriteCount = 0\n",
    "\n",
    "            if 'likeCount' in i['statistics']:\n",
    "                likeCount = i['statistics']['likeCount']\n",
    "            if 'viewCount' in i['statistics']:\n",
    "                viewCount = i['statistics']['viewCount']\n",
    "            if 'dislikeCount' in i['statistics']:\n",
    "                dislikeCount = i['statistics']['dislikeCount']\n",
    "            if 'commentCount' in i['statistics']:\n",
    "                commentCount = i['statistics']['commentCount']\n",
    "            if 'duration' in i['contentDetails']:\n",
    "                duration = i['contentDetails']['duration']\n",
    "            if 'favoriteCount' in i['statistics']:\n",
    "                favoriteCount = i['statistics']['favoriteCount']\n",
    "\n",
    "            df_extracted.loc[len(df_extracted.index)] = [i['id'],#df_['youtubeId'][item_count], df_['movieId'][item_count],\n",
    "                                                         i['snippet']['title'],i['snippet']['description'], \n",
    "                                                         comments_dict, viewCount, likeCount,dislikeCount, \n",
    "                                                         commentCount, duration, favoriteCount]\n",
    "            item_count += 1\n",
    "            bar.update(item_count)\n",
    "    except Exception as e:\n",
    "        print(e)"
   ]
  },
  {
   "cell_type": "code",
   "execution_count": 85,
   "metadata": {},
   "outputs": [],
   "source": [
    "async def getYoutubeData(df,youtube):\n",
    "    prev=0\n",
    "    tasks=[]\n",
    "    for x in range(50, len(df.index)+50, 50):\n",
    "        tasks.append(fetchingData(df['youtubeId'][prev:x], df[prev:x], youtube_comments, prev, x))\n",
    "        prev=x+1\n",
    "        \n",
    "    tasks.reverse()\n",
    "    await asyncio.wait(tasks)\n",
    "    if df_extracted.empty:\n",
    "        print('No more record(s) to fetch...')\n",
    "        return\n",
    "    if os.path.isfile('Youtube_Data_Extracted.csv'):\n",
    "        #File Exist\n",
    "        df_extracted.to_csv('Youtube_Data_Extracted.csv', mode='a')#, header=False)\n",
    "    else:\n",
    "        #FIle Not Exist\n",
    "        df_extracted.to_csv('Youtube_Data_Extracted.csv')\n",
    "        \n"
   ]
  },
  {
   "cell_type": "code",
   "execution_count": 86,
   "metadata": {},
   "outputs": [],
   "source": [
    "def removeExtractedData():\n",
    "    df_temp = pd.read_csv(\"vdoLinks.csv\",index_col=0)\n",
    "    df_extracted = pd.read_csv(\"Youtube_Data_Extracted.csv\",encoding='ISO-8859-1')\n",
    "    list_ = df_extracted['YoutubeId'].tolist()\n",
    "    for i in list_:\n",
    "        try:\n",
    "            df_temp = df_temp.drop(i, axis=0)#, inplace=True)\n",
    "        except Exception as e:\n",
    "            print(e)\n",
    "    return df_temp"
   ]
  },
  {
   "cell_type": "code",
   "execution_count": 1,
   "metadata": {
    "scrolled": true
   },
   "outputs": [],
   "source": [
    "#Filtering already extracted youtube videos\n",
    "if os.path.isfile('Youtube_Data_Extracted.csv'):\n",
    "    df_filtered = removeExtractedData()\n",
    "    df_filtered = df_filtered.reset_index()\n",
    "    result = await getYoutubeData(df_filtered, youtube_comments)\n",
    "else:\n",
    "    result = await getYoutubeData(df, youtube_comments)\n",
    "result"
   ]
  },
  {
   "cell_type": "code",
   "execution_count": 88,
   "metadata": {
    "scrolled": true
   },
   "outputs": [
    {
     "data": {
      "text/html": [
       "<div>\n",
       "<style scoped>\n",
       "    .dataframe tbody tr th:only-of-type {\n",
       "        vertical-align: middle;\n",
       "    }\n",
       "\n",
       "    .dataframe tbody tr th {\n",
       "        vertical-align: top;\n",
       "    }\n",
       "\n",
       "    .dataframe thead th {\n",
       "        text-align: right;\n",
       "    }\n",
       "</style>\n",
       "<table border=\"1\" class=\"dataframe\">\n",
       "  <thead>\n",
       "    <tr style=\"text-align: right;\">\n",
       "      <th></th>\n",
       "      <th>YoutubeId</th>\n",
       "      <th>Title</th>\n",
       "      <th>Description</th>\n",
       "      <th>comments</th>\n",
       "      <th>View_Count</th>\n",
       "      <th>like_Count</th>\n",
       "      <th>Dislike_Count</th>\n",
       "      <th>Comment_Count</th>\n",
       "      <th>Duration</th>\n",
       "      <th>Fav_Count</th>\n",
       "    </tr>\n",
       "  </thead>\n",
       "  <tbody>\n",
       "    <tr>\n",
       "      <th>0</th>\n",
       "      <td>-txGiUtVAjM</td>\n",
       "      <td>Born to Dance - Trailer</td>\n",
       "      <td>Multiple Oscar and Golden Globe-winner James S...</td>\n",
       "      <td>{'comments': ['This was Cole Porter&amp;#39;s firs...</td>\n",
       "      <td>15543</td>\n",
       "      <td>0</td>\n",
       "      <td>0</td>\n",
       "      <td>3</td>\n",
       "      <td>PT4M36S</td>\n",
       "      <td>0</td>\n",
       "    </tr>\n",
       "    <tr>\n",
       "      <th>1</th>\n",
       "      <td>-jqYxuLOyyo</td>\n",
       "      <td>L'armata Brancaleone</td>\n",
       "      <td>L'armata Brancaleone (known in English-speakin...</td>\n",
       "      <td>{'comments': ['Secondo me , bisognerebbe resus...</td>\n",
       "      <td>60066</td>\n",
       "      <td>76</td>\n",
       "      <td>2</td>\n",
       "      <td>15</td>\n",
       "      <td>PT1M26S</td>\n",
       "      <td>0</td>\n",
       "    </tr>\n",
       "    <tr>\n",
       "      <th>2</th>\n",
       "      <td>-o1UK8Ovb_A</td>\n",
       "      <td>Luminarias</td>\n",
       "      <td>Welcome to Luminarias—where hot spicy dish get...</td>\n",
       "      <td>{'comments': ['I love this movie 💃🏿mi gusts!']...</td>\n",
       "      <td>1733</td>\n",
       "      <td>6</td>\n",
       "      <td>1</td>\n",
       "      <td>1</td>\n",
       "      <td>PT1M45S</td>\n",
       "      <td>0</td>\n",
       "    </tr>\n",
       "    <tr>\n",
       "      <th>3</th>\n",
       "      <td>-JAMmi5g3_s</td>\n",
       "      <td>Jerzy Kawalerowicz NIGHT TRAIN (Pociag) montage</td>\n",
       "      <td>Kawalerowicz's celebrated film is considered o...</td>\n",
       "      <td>{'comments': ['Il film, rarissimo da vedere, è...</td>\n",
       "      <td>24323</td>\n",
       "      <td>145</td>\n",
       "      <td>1</td>\n",
       "      <td>7</td>\n",
       "      <td>PT1M1S</td>\n",
       "      <td>0</td>\n",
       "    </tr>\n",
       "    <tr>\n",
       "      <th>4</th>\n",
       "      <td>-btN0VAVFlU</td>\n",
       "      <td>Crack-Up</td>\n",
       "      <td>Crackup starring Pat O'brien, Claire Trevor an...</td>\n",
       "      <td>{'comments': ['Pat was my cousin. Met him a fe...</td>\n",
       "      <td>2958</td>\n",
       "      <td>16</td>\n",
       "      <td>1</td>\n",
       "      <td>4</td>\n",
       "      <td>PT2M14S</td>\n",
       "      <td>0</td>\n",
       "    </tr>\n",
       "    <tr>\n",
       "      <th>...</th>\n",
       "      <td>...</td>\n",
       "      <td>...</td>\n",
       "      <td>...</td>\n",
       "      <td>...</td>\n",
       "      <td>...</td>\n",
       "      <td>...</td>\n",
       "      <td>...</td>\n",
       "      <td>...</td>\n",
       "      <td>...</td>\n",
       "      <td>...</td>\n",
       "    </tr>\n",
       "    <tr>\n",
       "      <th>192</th>\n",
       "      <td>-y5YqwWK9ts</td>\n",
       "      <td>Uro - Trailer</td>\n",
       "      <td>Turning his back on a delinquent past and join...</td>\n",
       "      <td>{'comments': ['Does it exist in french or engl...</td>\n",
       "      <td>179004</td>\n",
       "      <td>100</td>\n",
       "      <td>13</td>\n",
       "      <td>13</td>\n",
       "      <td>PT1M55S</td>\n",
       "      <td>0</td>\n",
       "    </tr>\n",
       "    <tr>\n",
       "      <th>193</th>\n",
       "      <td>-h8wWFqwmcA</td>\n",
       "      <td>Bad Company</td>\n",
       "      <td>Academy Award(R)-winner Anthony Hopkins stars ...</td>\n",
       "      <td>{'comments': [], 'replies': []}</td>\n",
       "      <td>235701</td>\n",
       "      <td>0</td>\n",
       "      <td>0</td>\n",
       "      <td>0</td>\n",
       "      <td>PT2M19S</td>\n",
       "      <td>0</td>\n",
       "    </tr>\n",
       "    <tr>\n",
       "      <th>194</th>\n",
       "      <td>-ZDvhYsm2as</td>\n",
       "      <td>Harry And Walter Go To New York</td>\n",
       "      <td></td>\n",
       "      <td>{'comments': ['Been my favorite movie comedy s...</td>\n",
       "      <td>11590</td>\n",
       "      <td>28</td>\n",
       "      <td>2</td>\n",
       "      <td>4</td>\n",
       "      <td>PT2M18S</td>\n",
       "      <td>0</td>\n",
       "    </tr>\n",
       "    <tr>\n",
       "      <th>195</th>\n",
       "      <td>-vnBvDPXZk0</td>\n",
       "      <td>Stone of Destiny trailer</td>\n",
       "      <td>Director: Charles Martin Smith\\r\\nWriter: Char...</td>\n",
       "      <td>{'comments': ['ONCE UPON A TIME', 'Is this fil...</td>\n",
       "      <td>222219</td>\n",
       "      <td>195</td>\n",
       "      <td>21</td>\n",
       "      <td>95</td>\n",
       "      <td>PT1M31S</td>\n",
       "      <td>0</td>\n",
       "    </tr>\n",
       "    <tr>\n",
       "      <th>196</th>\n",
       "      <td>-OtAdV5SWg4</td>\n",
       "      <td>Keanu Reeves - The Prince Of Pennsylvania -1 (...</td>\n",
       "      <td>\"There's nothing wrong with the Marshetta fami...</td>\n",
       "      <td>{'comments': ['Я очкарик😂', 'Я живу с тобой в ...</td>\n",
       "      <td>35547</td>\n",
       "      <td>117</td>\n",
       "      <td>6</td>\n",
       "      <td>19</td>\n",
       "      <td>PT7M28S</td>\n",
       "      <td>0</td>\n",
       "    </tr>\n",
       "  </tbody>\n",
       "</table>\n",
       "<p>197 rows × 10 columns</p>\n",
       "</div>"
      ],
      "text/plain": [
       "       YoutubeId                                              Title  \\\n",
       "0    -txGiUtVAjM                            Born to Dance - Trailer   \n",
       "1    -jqYxuLOyyo                               L'armata Brancaleone   \n",
       "2    -o1UK8Ovb_A                                         Luminarias   \n",
       "3    -JAMmi5g3_s    Jerzy Kawalerowicz NIGHT TRAIN (Pociag) montage   \n",
       "4    -btN0VAVFlU                                           Crack-Up   \n",
       "..           ...                                                ...   \n",
       "192  -y5YqwWK9ts                                      Uro - Trailer   \n",
       "193  -h8wWFqwmcA                                        Bad Company   \n",
       "194  -ZDvhYsm2as                    Harry And Walter Go To New York   \n",
       "195  -vnBvDPXZk0                           Stone of Destiny trailer   \n",
       "196  -OtAdV5SWg4  Keanu Reeves - The Prince Of Pennsylvania -1 (...   \n",
       "\n",
       "                                           Description  \\\n",
       "0    Multiple Oscar and Golden Globe-winner James S...   \n",
       "1    L'armata Brancaleone (known in English-speakin...   \n",
       "2    Welcome to Luminarias—where hot spicy dish get...   \n",
       "3    Kawalerowicz's celebrated film is considered o...   \n",
       "4    Crackup starring Pat O'brien, Claire Trevor an...   \n",
       "..                                                 ...   \n",
       "192  Turning his back on a delinquent past and join...   \n",
       "193  Academy Award(R)-winner Anthony Hopkins stars ...   \n",
       "194                                                      \n",
       "195  Director: Charles Martin Smith\\r\\nWriter: Char...   \n",
       "196  \"There's nothing wrong with the Marshetta fami...   \n",
       "\n",
       "                                              comments View_Count like_Count  \\\n",
       "0    {'comments': ['This was Cole Porter&#39;s firs...      15543          0   \n",
       "1    {'comments': ['Secondo me , bisognerebbe resus...      60066         76   \n",
       "2    {'comments': ['I love this movie 💃🏿mi gusts!']...       1733          6   \n",
       "3    {'comments': ['Il film, rarissimo da vedere, è...      24323        145   \n",
       "4    {'comments': ['Pat was my cousin. Met him a fe...       2958         16   \n",
       "..                                                 ...        ...        ...   \n",
       "192  {'comments': ['Does it exist in french or engl...     179004        100   \n",
       "193                    {'comments': [], 'replies': []}     235701          0   \n",
       "194  {'comments': ['Been my favorite movie comedy s...      11590         28   \n",
       "195  {'comments': ['ONCE UPON A TIME', 'Is this fil...     222219        195   \n",
       "196  {'comments': ['Я очкарик😂', 'Я живу с тобой в ...      35547        117   \n",
       "\n",
       "    Dislike_Count Comment_Count Duration Fav_Count  \n",
       "0               0             3  PT4M36S         0  \n",
       "1               2            15  PT1M26S         0  \n",
       "2               1             1  PT1M45S         0  \n",
       "3               1             7   PT1M1S         0  \n",
       "4               1             4  PT2M14S         0  \n",
       "..            ...           ...      ...       ...  \n",
       "192            13            13  PT1M55S         0  \n",
       "193             0             0  PT2M19S         0  \n",
       "194             2             4  PT2M18S         0  \n",
       "195            21            95  PT1M31S         0  \n",
       "196             6            19  PT7M28S         0  \n",
       "\n",
       "[197 rows x 10 columns]"
      ]
     },
     "execution_count": 88,
     "metadata": {},
     "output_type": "execute_result"
    }
   ],
   "source": [
    "df_extracted"
   ]
  },
  {
   "cell_type": "markdown",
   "metadata": {},
   "source": [
    "## 6) Displaying extracted data"
   ]
  },
  {
   "cell_type": "code",
   "execution_count": 185,
   "metadata": {
    "scrolled": false
   },
   "outputs": [
    {
     "data": {
      "text/html": [
       "<div>\n",
       "<style scoped>\n",
       "    .dataframe tbody tr th:only-of-type {\n",
       "        vertical-align: middle;\n",
       "    }\n",
       "\n",
       "    .dataframe tbody tr th {\n",
       "        vertical-align: top;\n",
       "    }\n",
       "\n",
       "    .dataframe thead th {\n",
       "        text-align: right;\n",
       "    }\n",
       "</style>\n",
       "<table border=\"1\" class=\"dataframe\">\n",
       "  <thead>\n",
       "    <tr style=\"text-align: right;\">\n",
       "      <th></th>\n",
       "      <th>Unnamed: 0</th>\n",
       "      <th>YoutubeId</th>\n",
       "      <th>Title</th>\n",
       "      <th>Description</th>\n",
       "      <th>comments</th>\n",
       "      <th>View_Count</th>\n",
       "      <th>like_Count</th>\n",
       "      <th>Dislike_Count</th>\n",
       "      <th>Comment_Count</th>\n",
       "      <th>Duration</th>\n",
       "      <th>Fav_Count</th>\n",
       "    </tr>\n",
       "  </thead>\n",
       "  <tbody>\n",
       "    <tr>\n",
       "      <th>0</th>\n",
       "      <td>0</td>\n",
       "      <td>PFCnp70cyp4</td>\n",
       "      <td>How to Pickup Using the Theory of Relativity!</td>\n",
       "      <td>From the bopic of Stephen Hawking, 'Hawking' (...</td>\n",
       "      <td>{'comments': ['Doesn&amp;#39;t work, I tried :/', ...</td>\n",
       "      <td>38078</td>\n",
       "      <td>205</td>\n",
       "      <td>2</td>\n",
       "      <td>22</td>\n",
       "      <td>PT2M1S</td>\n",
       "      <td>0</td>\n",
       "    </tr>\n",
       "    <tr>\n",
       "      <th>1</th>\n",
       "      <td>1</td>\n",
       "      <td>mU5Dhcjmkaw</td>\n",
       "      <td>Finding Joy - Theatrical Trailer (2013) Movie ...</td>\n",
       "      <td>Finding Joy - Theatrical Trailer (2013) Movie ...</td>\n",
       "      <td>{'comments': [], 'replies': []}</td>\n",
       "      <td>903</td>\n",
       "      <td>3</td>\n",
       "      <td>1</td>\n",
       "      <td>0</td>\n",
       "      <td>PT2M8S</td>\n",
       "      <td>0</td>\n",
       "    </tr>\n",
       "    <tr>\n",
       "      <th>2</th>\n",
       "      <td>2</td>\n",
       "      <td>gOP3Uicg04U</td>\n",
       "      <td>'Now Is Good' Trailer HD</td>\n",
       "      <td>http://www.hollywood.com\\n\\n'Now Is Good' Trai...</td>\n",
       "      <td>{'comments': ['i know im little too lat ehere,...</td>\n",
       "      <td>218744</td>\n",
       "      <td>899</td>\n",
       "      <td>32</td>\n",
       "      <td>114</td>\n",
       "      <td>PT1M56S</td>\n",
       "      <td>0</td>\n",
       "    </tr>\n",
       "    <tr>\n",
       "      <th>3</th>\n",
       "      <td>3</td>\n",
       "      <td>iXjEqm39oMw</td>\n",
       "      <td>The Adonis Factor (Trailer)</td>\n",
       "      <td>DVD Release: October 2010\\n\\nBuy Now:http://sh...</td>\n",
       "      <td>{'comments': ['Sadly, unless you have six-pack...</td>\n",
       "      <td>27136</td>\n",
       "      <td>28</td>\n",
       "      <td>11</td>\n",
       "      <td>5</td>\n",
       "      <td>PT1M29S</td>\n",
       "      <td>0</td>\n",
       "    </tr>\n",
       "    <tr>\n",
       "      <th>4</th>\n",
       "      <td>4</td>\n",
       "      <td>M1m020Mp39E</td>\n",
       "      <td>Call Me Kuchu Documentary Trailer</td>\n",
       "      <td>CALL ME KUCHU TRAILER \\n\\nIn Uganda, a new bil...</td>\n",
       "      <td>{'comments': ['i&amp;#39;m glad you are able to sh...</td>\n",
       "      <td>47973</td>\n",
       "      <td>182</td>\n",
       "      <td>11</td>\n",
       "      <td>14</td>\n",
       "      <td>PT4M38S</td>\n",
       "      <td>0</td>\n",
       "    </tr>\n",
       "    <tr>\n",
       "      <th>...</th>\n",
       "      <td>...</td>\n",
       "      <td>...</td>\n",
       "      <td>...</td>\n",
       "      <td>...</td>\n",
       "      <td>...</td>\n",
       "      <td>...</td>\n",
       "      <td>...</td>\n",
       "      <td>...</td>\n",
       "      <td>...</td>\n",
       "      <td>...</td>\n",
       "      <td>...</td>\n",
       "    </tr>\n",
       "    <tr>\n",
       "      <th>19701</th>\n",
       "      <td>192</td>\n",
       "      <td>#NAME?</td>\n",
       "      <td>Uro - Trailer</td>\n",
       "      <td>Turning his back on a delinquent past and join...</td>\n",
       "      <td>{'comments': ['Does it exist in french or engl...</td>\n",
       "      <td>179004</td>\n",
       "      <td>100</td>\n",
       "      <td>13</td>\n",
       "      <td>13</td>\n",
       "      <td>PT1M55S</td>\n",
       "      <td>0</td>\n",
       "    </tr>\n",
       "    <tr>\n",
       "      <th>19702</th>\n",
       "      <td>193</td>\n",
       "      <td>#NAME?</td>\n",
       "      <td>Bad Company</td>\n",
       "      <td>Academy Award(R)-winner Anthony Hopkins stars ...</td>\n",
       "      <td>{'comments': [], 'replies': []}</td>\n",
       "      <td>235701</td>\n",
       "      <td>0</td>\n",
       "      <td>0</td>\n",
       "      <td>0</td>\n",
       "      <td>PT2M19S</td>\n",
       "      <td>0</td>\n",
       "    </tr>\n",
       "    <tr>\n",
       "      <th>19703</th>\n",
       "      <td>194</td>\n",
       "      <td>#NAME?</td>\n",
       "      <td>Harry And Walter Go To New York</td>\n",
       "      <td>NaN</td>\n",
       "      <td>{'comments': ['Been my favorite movie comedy s...</td>\n",
       "      <td>11590</td>\n",
       "      <td>28</td>\n",
       "      <td>2</td>\n",
       "      <td>4</td>\n",
       "      <td>PT2M18S</td>\n",
       "      <td>0</td>\n",
       "    </tr>\n",
       "    <tr>\n",
       "      <th>19704</th>\n",
       "      <td>195</td>\n",
       "      <td>#NAME?</td>\n",
       "      <td>Stone of Destiny trailer</td>\n",
       "      <td>Director: Charles Martin Smith\\nWriter: Charle...</td>\n",
       "      <td>{'comments': ['ONCE UPON A TIME', 'Is this fil...</td>\n",
       "      <td>222219</td>\n",
       "      <td>195</td>\n",
       "      <td>21</td>\n",
       "      <td>95</td>\n",
       "      <td>PT1M31S</td>\n",
       "      <td>0</td>\n",
       "    </tr>\n",
       "    <tr>\n",
       "      <th>19705</th>\n",
       "      <td>196</td>\n",
       "      <td>#NAME?</td>\n",
       "      <td>Keanu Reeves - The Prince Of Pennsylvania -1 (...</td>\n",
       "      <td>\"There's nothing wrong with the Marshetta fami...</td>\n",
       "      <td>{'comments': ['? ?????????', '? ???? ? ????? ?...</td>\n",
       "      <td>35547</td>\n",
       "      <td>117</td>\n",
       "      <td>6</td>\n",
       "      <td>19</td>\n",
       "      <td>PT7M28S</td>\n",
       "      <td>0</td>\n",
       "    </tr>\n",
       "  </tbody>\n",
       "</table>\n",
       "<p>19706 rows × 11 columns</p>\n",
       "</div>"
      ],
      "text/plain": [
       "       Unnamed: 0    YoutubeId  \\\n",
       "0               0  PFCnp70cyp4   \n",
       "1               1  mU5Dhcjmkaw   \n",
       "2               2  gOP3Uicg04U   \n",
       "3               3  iXjEqm39oMw   \n",
       "4               4  M1m020Mp39E   \n",
       "...           ...          ...   \n",
       "19701         192       #NAME?   \n",
       "19702         193       #NAME?   \n",
       "19703         194       #NAME?   \n",
       "19704         195       #NAME?   \n",
       "19705         196       #NAME?   \n",
       "\n",
       "                                                   Title  \\\n",
       "0          How to Pickup Using the Theory of Relativity!   \n",
       "1      Finding Joy - Theatrical Trailer (2013) Movie ...   \n",
       "2                               'Now Is Good' Trailer HD   \n",
       "3                            The Adonis Factor (Trailer)   \n",
       "4                      Call Me Kuchu Documentary Trailer   \n",
       "...                                                  ...   \n",
       "19701                                      Uro - Trailer   \n",
       "19702                                        Bad Company   \n",
       "19703                    Harry And Walter Go To New York   \n",
       "19704                           Stone of Destiny trailer   \n",
       "19705  Keanu Reeves - The Prince Of Pennsylvania -1 (...   \n",
       "\n",
       "                                             Description  \\\n",
       "0      From the bopic of Stephen Hawking, 'Hawking' (...   \n",
       "1      Finding Joy - Theatrical Trailer (2013) Movie ...   \n",
       "2      http://www.hollywood.com\\n\\n'Now Is Good' Trai...   \n",
       "3      DVD Release: October 2010\\n\\nBuy Now:http://sh...   \n",
       "4      CALL ME KUCHU TRAILER \\n\\nIn Uganda, a new bil...   \n",
       "...                                                  ...   \n",
       "19701  Turning his back on a delinquent past and join...   \n",
       "19702  Academy Award(R)-winner Anthony Hopkins stars ...   \n",
       "19703                                                NaN   \n",
       "19704  Director: Charles Martin Smith\\nWriter: Charle...   \n",
       "19705  \"There's nothing wrong with the Marshetta fami...   \n",
       "\n",
       "                                                comments  View_Count  \\\n",
       "0      {'comments': ['Doesn&#39;t work, I tried :/', ...       38078   \n",
       "1                        {'comments': [], 'replies': []}         903   \n",
       "2      {'comments': ['i know im little too lat ehere,...      218744   \n",
       "3      {'comments': ['Sadly, unless you have six-pack...       27136   \n",
       "4      {'comments': ['i&#39;m glad you are able to sh...       47973   \n",
       "...                                                  ...         ...   \n",
       "19701  {'comments': ['Does it exist in french or engl...      179004   \n",
       "19702                    {'comments': [], 'replies': []}      235701   \n",
       "19703  {'comments': ['Been my favorite movie comedy s...       11590   \n",
       "19704  {'comments': ['ONCE UPON A TIME', 'Is this fil...      222219   \n",
       "19705  {'comments': ['? ?????????', '? ???? ? ????? ?...       35547   \n",
       "\n",
       "       like_Count  Dislike_Count  Comment_Count Duration  Fav_Count  \n",
       "0             205              2             22   PT2M1S          0  \n",
       "1               3              1              0   PT2M8S          0  \n",
       "2             899             32            114  PT1M56S          0  \n",
       "3              28             11              5  PT1M29S          0  \n",
       "4             182             11             14  PT4M38S          0  \n",
       "...           ...            ...            ...      ...        ...  \n",
       "19701         100             13             13  PT1M55S          0  \n",
       "19702           0              0              0  PT2M19S          0  \n",
       "19703          28              2              4  PT2M18S          0  \n",
       "19704         195             21             95  PT1M31S          0  \n",
       "19705         117              6             19  PT7M28S          0  \n",
       "\n",
       "[19706 rows x 11 columns]"
      ]
     },
     "execution_count": 185,
     "metadata": {},
     "output_type": "execute_result"
    }
   ],
   "source": [
    "df_extracted_2 = pd.read_csv('Youtube_Data_Extracted.csv',encoding='ISO-8859-1')\n",
    "df_extracted_2"
   ]
  },
  {
   "cell_type": "markdown",
   "metadata": {},
   "source": [
    "## 7) Preprocessing & EDA"
   ]
  },
  {
   "cell_type": "code",
   "execution_count": 186,
   "metadata": {},
   "outputs": [
    {
     "data": {
      "text/plain": [
       "(19706, 11)"
      ]
     },
     "execution_count": 186,
     "metadata": {},
     "output_type": "execute_result"
    }
   ],
   "source": [
    "df_extracted_2.shape"
   ]
  },
  {
   "cell_type": "code",
   "execution_count": 187,
   "metadata": {},
   "outputs": [],
   "source": [
    "df_extracted_2.drop('Unnamed: 0', axis=1, inplace=True)"
   ]
  },
  {
   "cell_type": "markdown",
   "metadata": {},
   "source": [
    "#### 1) Removing Duplicates"
   ]
  },
  {
   "cell_type": "code",
   "execution_count": 188,
   "metadata": {},
   "outputs": [
    {
     "data": {
      "text/plain": [
       "(18896, 10)"
      ]
     },
     "execution_count": 188,
     "metadata": {},
     "output_type": "execute_result"
    }
   ],
   "source": [
    "df_extracted_2.drop_duplicates(subset =\"YoutubeId\",\n",
    "                     keep = False, inplace = True)\n",
    "df_extracted_2.shape"
   ]
  },
  {
   "cell_type": "code",
   "execution_count": 140,
   "metadata": {},
   "outputs": [
    {
     "data": {
      "text/html": [
       "<div>\n",
       "<style scoped>\n",
       "    .dataframe tbody tr th:only-of-type {\n",
       "        vertical-align: middle;\n",
       "    }\n",
       "\n",
       "    .dataframe tbody tr th {\n",
       "        vertical-align: top;\n",
       "    }\n",
       "\n",
       "    .dataframe thead th {\n",
       "        text-align: right;\n",
       "    }\n",
       "</style>\n",
       "<table border=\"1\" class=\"dataframe\">\n",
       "  <thead>\n",
       "    <tr style=\"text-align: right;\">\n",
       "      <th></th>\n",
       "      <th>YoutubeId</th>\n",
       "      <th>Title</th>\n",
       "      <th>Description</th>\n",
       "      <th>comments</th>\n",
       "      <th>View_Count</th>\n",
       "      <th>like_Count</th>\n",
       "      <th>Dislike_Count</th>\n",
       "      <th>Comment_Count</th>\n",
       "      <th>Duration</th>\n",
       "      <th>Fav_Count</th>\n",
       "    </tr>\n",
       "  </thead>\n",
       "  <tbody>\n",
       "    <tr>\n",
       "      <th>0</th>\n",
       "      <td>PFCnp70cyp4</td>\n",
       "      <td>How to Pickup Using the Theory of Relativity!</td>\n",
       "      <td>From the bopic of Stephen Hawking, 'Hawking' (...</td>\n",
       "      <td>{'comments': ['Doesn&amp;#39;t work, I tried :/', ...</td>\n",
       "      <td>38078</td>\n",
       "      <td>205</td>\n",
       "      <td>2</td>\n",
       "      <td>22</td>\n",
       "      <td>PT2M1S</td>\n",
       "      <td>0</td>\n",
       "    </tr>\n",
       "    <tr>\n",
       "      <th>1</th>\n",
       "      <td>mU5Dhcjmkaw</td>\n",
       "      <td>Finding Joy - Theatrical Trailer (2013) Movie ...</td>\n",
       "      <td>Finding Joy - Theatrical Trailer (2013) Movie ...</td>\n",
       "      <td>{'comments': [], 'replies': []}</td>\n",
       "      <td>903</td>\n",
       "      <td>3</td>\n",
       "      <td>1</td>\n",
       "      <td>0</td>\n",
       "      <td>PT2M8S</td>\n",
       "      <td>0</td>\n",
       "    </tr>\n",
       "    <tr>\n",
       "      <th>2</th>\n",
       "      <td>gOP3Uicg04U</td>\n",
       "      <td>'Now Is Good' Trailer HD</td>\n",
       "      <td>http://www.hollywood.com\\n\\n'Now Is Good' Trai...</td>\n",
       "      <td>{'comments': ['i know im little too lat ehere,...</td>\n",
       "      <td>218744</td>\n",
       "      <td>899</td>\n",
       "      <td>32</td>\n",
       "      <td>114</td>\n",
       "      <td>PT1M56S</td>\n",
       "      <td>0</td>\n",
       "    </tr>\n",
       "    <tr>\n",
       "      <th>3</th>\n",
       "      <td>iXjEqm39oMw</td>\n",
       "      <td>The Adonis Factor (Trailer)</td>\n",
       "      <td>DVD Release: October 2010\\n\\nBuy Now:http://sh...</td>\n",
       "      <td>{'comments': ['Sadly, unless you have six-pack...</td>\n",
       "      <td>27136</td>\n",
       "      <td>28</td>\n",
       "      <td>11</td>\n",
       "      <td>5</td>\n",
       "      <td>PT1M29S</td>\n",
       "      <td>0</td>\n",
       "    </tr>\n",
       "    <tr>\n",
       "      <th>4</th>\n",
       "      <td>M1m020Mp39E</td>\n",
       "      <td>Call Me Kuchu Documentary Trailer</td>\n",
       "      <td>CALL ME KUCHU TRAILER \\n\\nIn Uganda, a new bil...</td>\n",
       "      <td>{'comments': ['i&amp;#39;m glad you are able to sh...</td>\n",
       "      <td>47973</td>\n",
       "      <td>182</td>\n",
       "      <td>11</td>\n",
       "      <td>14</td>\n",
       "      <td>PT4M38S</td>\n",
       "      <td>0</td>\n",
       "    </tr>\n",
       "    <tr>\n",
       "      <th>...</th>\n",
       "      <td>...</td>\n",
       "      <td>...</td>\n",
       "      <td>...</td>\n",
       "      <td>...</td>\n",
       "      <td>...</td>\n",
       "      <td>...</td>\n",
       "      <td>...</td>\n",
       "      <td>...</td>\n",
       "      <td>...</td>\n",
       "      <td>...</td>\n",
       "    </tr>\n",
       "    <tr>\n",
       "      <th>19099</th>\n",
       "      <td>WJAl87qTf40</td>\n",
       "      <td>Oranges (2004)</td>\n",
       "      <td>Two boys are talking after a bicycle accident....</td>\n",
       "      <td>{'comments': ['At the end, I don&amp;#39;t think t...</td>\n",
       "      <td>67959</td>\n",
       "      <td>603</td>\n",
       "      <td>36</td>\n",
       "      <td>46</td>\n",
       "      <td>PT11M23S</td>\n",
       "      <td>0</td>\n",
       "    </tr>\n",
       "    <tr>\n",
       "      <th>19101</th>\n",
       "      <td>te4N3sOlaXs</td>\n",
       "      <td>Such a Long Journey</td>\n",
       "      <td>Trailer for Such a Long Journey, part of the R...</td>\n",
       "      <td>{'comments': ['can somebody please tell me whe...</td>\n",
       "      <td>21489</td>\n",
       "      <td>51</td>\n",
       "      <td>3</td>\n",
       "      <td>13</td>\n",
       "      <td>PT2M</td>\n",
       "      <td>0</td>\n",
       "    </tr>\n",
       "    <tr>\n",
       "      <th>19107</th>\n",
       "      <td>YCGbTeb4USk</td>\n",
       "      <td>The Devil's Chair official trailer</td>\n",
       "      <td>With a pocketful of drugs, Nick West (Andrew H...</td>\n",
       "      <td>{'comments': ['Dude, I bought this movie at a ...</td>\n",
       "      <td>377379</td>\n",
       "      <td>352</td>\n",
       "      <td>69</td>\n",
       "      <td>159</td>\n",
       "      <td>PT1M59S</td>\n",
       "      <td>0</td>\n",
       "    </tr>\n",
       "    <tr>\n",
       "      <th>19108</th>\n",
       "      <td>LvyglNQguFk</td>\n",
       "      <td>All the President's Men trailer #1</td>\n",
       "      <td>http://peelslowlynsee.wordpress.com/2010/03/23...</td>\n",
       "      <td>{'comments': [], 'replies': []}</td>\n",
       "      <td>25568</td>\n",
       "      <td>23</td>\n",
       "      <td>1</td>\n",
       "      <td>0</td>\n",
       "      <td>PT1M48S</td>\n",
       "      <td>0</td>\n",
       "    </tr>\n",
       "    <tr>\n",
       "      <th>19112</th>\n",
       "      <td>AlMPS_qcRaM</td>\n",
       "      <td>I've Loved You So Long Trailer - Available to ...</td>\n",
       "      <td>Kristin Scott Thomas offers a truly sensationa...</td>\n",
       "      <td>{'comments': ['brilliant..tear-jerker', 'j l&amp;#...</td>\n",
       "      <td>97445</td>\n",
       "      <td>57</td>\n",
       "      <td>4</td>\n",
       "      <td>9</td>\n",
       "      <td>PT1M30S</td>\n",
       "      <td>0</td>\n",
       "    </tr>\n",
       "  </tbody>\n",
       "</table>\n",
       "<p>18896 rows × 10 columns</p>\n",
       "</div>"
      ],
      "text/plain": [
       "         YoutubeId                                              Title  \\\n",
       "0      PFCnp70cyp4      How to Pickup Using the Theory of Relativity!   \n",
       "1      mU5Dhcjmkaw  Finding Joy - Theatrical Trailer (2013) Movie ...   \n",
       "2      gOP3Uicg04U                           'Now Is Good' Trailer HD   \n",
       "3      iXjEqm39oMw                        The Adonis Factor (Trailer)   \n",
       "4      M1m020Mp39E                  Call Me Kuchu Documentary Trailer   \n",
       "...            ...                                                ...   \n",
       "19099  WJAl87qTf40                                     Oranges (2004)   \n",
       "19101  te4N3sOlaXs                                Such a Long Journey   \n",
       "19107  YCGbTeb4USk                 The Devil's Chair official trailer   \n",
       "19108  LvyglNQguFk                 All the President's Men trailer #1   \n",
       "19112  AlMPS_qcRaM  I've Loved You So Long Trailer - Available to ...   \n",
       "\n",
       "                                             Description  \\\n",
       "0      From the bopic of Stephen Hawking, 'Hawking' (...   \n",
       "1      Finding Joy - Theatrical Trailer (2013) Movie ...   \n",
       "2      http://www.hollywood.com\\n\\n'Now Is Good' Trai...   \n",
       "3      DVD Release: October 2010\\n\\nBuy Now:http://sh...   \n",
       "4      CALL ME KUCHU TRAILER \\n\\nIn Uganda, a new bil...   \n",
       "...                                                  ...   \n",
       "19099  Two boys are talking after a bicycle accident....   \n",
       "19101  Trailer for Such a Long Journey, part of the R...   \n",
       "19107  With a pocketful of drugs, Nick West (Andrew H...   \n",
       "19108  http://peelslowlynsee.wordpress.com/2010/03/23...   \n",
       "19112  Kristin Scott Thomas offers a truly sensationa...   \n",
       "\n",
       "                                                comments  View_Count  \\\n",
       "0      {'comments': ['Doesn&#39;t work, I tried :/', ...       38078   \n",
       "1                        {'comments': [], 'replies': []}         903   \n",
       "2      {'comments': ['i know im little too lat ehere,...      218744   \n",
       "3      {'comments': ['Sadly, unless you have six-pack...       27136   \n",
       "4      {'comments': ['i&#39;m glad you are able to sh...       47973   \n",
       "...                                                  ...         ...   \n",
       "19099  {'comments': ['At the end, I don&#39;t think t...       67959   \n",
       "19101  {'comments': ['can somebody please tell me whe...       21489   \n",
       "19107  {'comments': ['Dude, I bought this movie at a ...      377379   \n",
       "19108                    {'comments': [], 'replies': []}       25568   \n",
       "19112  {'comments': ['brilliant..tear-jerker', 'j l&#...       97445   \n",
       "\n",
       "       like_Count  Dislike_Count  Comment_Count  Duration  Fav_Count  \n",
       "0             205              2             22    PT2M1S          0  \n",
       "1               3              1              0    PT2M8S          0  \n",
       "2             899             32            114   PT1M56S          0  \n",
       "3              28             11              5   PT1M29S          0  \n",
       "4             182             11             14   PT4M38S          0  \n",
       "...           ...            ...            ...       ...        ...  \n",
       "19099         603             36             46  PT11M23S          0  \n",
       "19101          51              3             13      PT2M          0  \n",
       "19107         352             69            159   PT1M59S          0  \n",
       "19108          23              1              0   PT1M48S          0  \n",
       "19112          57              4              9   PT1M30S          0  \n",
       "\n",
       "[18896 rows x 10 columns]"
      ]
     },
     "execution_count": 140,
     "metadata": {},
     "output_type": "execute_result"
    }
   ],
   "source": [
    "df_extracted_2"
   ]
  },
  {
   "cell_type": "code",
   "execution_count": 141,
   "metadata": {
    "scrolled": true
   },
   "outputs": [
    {
     "name": "stdout",
     "output_type": "stream",
     "text": [
      "<class 'pandas.core.frame.DataFrame'>\n",
      "Int64Index: 18896 entries, 0 to 19112\n",
      "Data columns (total 10 columns):\n",
      " #   Column         Non-Null Count  Dtype \n",
      "---  ------         --------------  ----- \n",
      " 0   YoutubeId      18896 non-null  object\n",
      " 1   Title          18896 non-null  object\n",
      " 2   Description    18383 non-null  object\n",
      " 3   comments       18896 non-null  object\n",
      " 4   View_Count     18896 non-null  int64 \n",
      " 5   like_Count     18896 non-null  int64 \n",
      " 6   Dislike_Count  18896 non-null  int64 \n",
      " 7   Comment_Count  18896 non-null  int64 \n",
      " 8   Duration       18896 non-null  object\n",
      " 9   Fav_Count      18896 non-null  int64 \n",
      "dtypes: int64(5), object(5)\n",
      "memory usage: 1.6+ MB\n"
     ]
    }
   ],
   "source": [
    "df_extracted_2.info()"
   ]
  },
  {
   "cell_type": "markdown",
   "metadata": {},
   "source": [
    "#### 2)Converting Object data type to Integer"
   ]
  },
  {
   "cell_type": "code",
   "execution_count": 142,
   "metadata": {},
   "outputs": [],
   "source": [
    "df_extracted_2[[\"View_Count\", \"like_Count\",\"Dislike_Count\",\"Comment_Count\",\"Fav_Count\"]] = df_extracted_2[[\"View_Count\", \"like_Count\",\"Dislike_Count\",\"Comment_Count\",\"Fav_Count\"]].astype('int64')"
   ]
  },
  {
   "cell_type": "code",
   "execution_count": 145,
   "metadata": {
    "scrolled": true
   },
   "outputs": [
    {
     "name": "stdout",
     "output_type": "stream",
     "text": [
      "<class 'pandas.core.frame.DataFrame'>\n",
      "Int64Index: 18896 entries, 0 to 19112\n",
      "Data columns (total 10 columns):\n",
      " #   Column         Non-Null Count  Dtype \n",
      "---  ------         --------------  ----- \n",
      " 0   YoutubeId      18896 non-null  object\n",
      " 1   Title          18896 non-null  object\n",
      " 2   Description    18383 non-null  object\n",
      " 3   comments       18896 non-null  object\n",
      " 4   View_Count     18896 non-null  int64 \n",
      " 5   like_Count     18896 non-null  int64 \n",
      " 6   Dislike_Count  18896 non-null  int64 \n",
      " 7   Comment_Count  18896 non-null  int64 \n",
      " 8   Duration       18896 non-null  object\n",
      " 9   Fav_Count      18896 non-null  int64 \n",
      "dtypes: int64(5), object(5)\n",
      "memory usage: 1.6+ MB\n"
     ]
    }
   ],
   "source": [
    "df_extracted_2.info()"
   ]
  },
  {
   "cell_type": "markdown",
   "metadata": {},
   "source": [
    "## 8) Results"
   ]
  },
  {
   "cell_type": "markdown",
   "metadata": {},
   "source": [
    "### 1) A list of the top-10 vides based on the total views"
   ]
  },
  {
   "cell_type": "code",
   "execution_count": 146,
   "metadata": {},
   "outputs": [],
   "source": [
    "top_10_views = df_extracted_2.sort_values(by=['View_Count'], ascending=False).head(10)"
   ]
  },
  {
   "cell_type": "code",
   "execution_count": 147,
   "metadata": {},
   "outputs": [
    {
     "name": "stdout",
     "output_type": "stream",
     "text": [
      "Top 10 viewed videos: ['John Legend - All of Me (Official Video)', 'Fresh Guacamole by PES | Oscar Nominated Short', 'Unfaithful (2002) - The Other Woman Scene (1/3) | Movieclips', 'Britney Spears - Ooh La La (From The Smurfs 2)', 'Beastie Boys - Sabotage', 'ILO ILO ??????????????? Official Trailer', 'Growth Trailer', 'Transformers 3 Dark of the Moon Teaser Trailer - Official (HD)', \"Disney's Frozen Fever Trailer\", 'Don {HD} - Amitabh Bachchan - Zeenat Aman - Superhit Old Hindi Movie - (With Eng Subtitles)']\n"
     ]
    }
   ],
   "source": [
    "labels = top_10_views['Title'].values.tolist()\n",
    "print('Top 10 viewed videos:', labels)"
   ]
  },
  {
   "cell_type": "code",
   "execution_count": 148,
   "metadata": {},
   "outputs": [
    {
     "name": "stderr",
     "output_type": "stream",
     "text": [
      "<ipython-input-148-235354abb158>:15: UserWarning: FixedFormatter should only be used together with FixedLocator\n",
      "  ax.set_xticklabels(labels=top_10_views['YoutubeId'],rotation=90, fontsize=16)\n"
     ]
    },
    {
     "data": {
      "image/png": "[encoded data removed]",
      "text/plain": [
       "<Figure size 1080x360 with 1 Axes>"
      ]
     },
     "metadata": {
      "needs_background": "light"
     },
     "output_type": "display_data"
    }
   ],
   "source": [
    "my_colors = ['black', 'red', 'green', 'blue', 'purple', 'grey', 'maroon', 'salmon', 'yellow','pink']\n",
    "\n",
    "f = plt.figure(figsize =(15, 5) )\n",
    "\n",
    "\n",
    "ax = plt.subplot(111) #specify a subplot\n",
    "\n",
    "count = 0\n",
    "for index, row in top_10_views.iterrows():\n",
    "    ax.bar(row['YoutubeId'], row['View_Count'], color =my_colors[count], label = labels[count])\n",
    "    count+=1\n",
    "    \n",
    "ax=plt.gca()\n",
    "\n",
    "ax.set_xticklabels(labels=top_10_views['YoutubeId'],rotation=90, fontsize=16)\n",
    "\n",
    "ax.set_xlabel(\"Youtube Video Ids\", fontsize=18, labelpad=5, color='maroon')\n",
    "ax.set_ylabel(\"Vieiw Count (in Billion)\", fontsize=18, labelpad=5, color='maroon')\n",
    "ax.spines['right'].set_color('none')\n",
    "ax.spines['top'].set_color('none')\n",
    "plt.title(\"Top 10 Viewed Videos\", fontsize=16)\n",
    "\n",
    "plt.legend(labels,loc='best', frameon=False)#, bbox_to_anchor=(0.5, -0.5))\n",
    "plt.show()"
   ]
  },
  {
   "cell_type": "markdown",
   "metadata": {},
   "source": [
    "### 2) A list of the bottom-10 videos based on the total views"
   ]
  },
  {
   "cell_type": "code",
   "execution_count": 149,
   "metadata": {},
   "outputs": [],
   "source": [
    "least_10_views = df_extracted_2.sort_values(by=['View_Count'], ascending=False).tail(10)"
   ]
  },
  {
   "cell_type": "code",
   "execution_count": 150,
   "metadata": {},
   "outputs": [
    {
     "name": "stdout",
     "output_type": "stream",
     "text": [
      "Bottom 10 viewed videos: ['Spring Fever', 'Black Fury', 'Okie Noodling', 'Ballad of Cable Hogue - Trailer', \"Who's the Caboose\", 'The Ballad Of Nessie', 'Behold A Pale Horse', 'The End Of The Affair (1955)', 'Houseguest', 'Born Reckless']\n"
     ]
    }
   ],
   "source": [
    "labels = least_10_views['Title'].values.tolist()\n",
    "print('Bottom 10 viewed videos:', labels)"
   ]
  },
  {
   "cell_type": "code",
   "execution_count": 151,
   "metadata": {},
   "outputs": [
    {
     "data": {
      "text/html": [
       "<div>\n",
       "<style scoped>\n",
       "    .dataframe tbody tr th:only-of-type {\n",
       "        vertical-align: middle;\n",
       "    }\n",
       "\n",
       "    .dataframe tbody tr th {\n",
       "        vertical-align: top;\n",
       "    }\n",
       "\n",
       "    .dataframe thead th {\n",
       "        text-align: right;\n",
       "    }\n",
       "</style>\n",
       "<table border=\"1\" class=\"dataframe\">\n",
       "  <thead>\n",
       "    <tr style=\"text-align: right;\">\n",
       "      <th></th>\n",
       "      <th>YoutubeId</th>\n",
       "      <th>Title</th>\n",
       "      <th>Description</th>\n",
       "      <th>comments</th>\n",
       "      <th>View_Count</th>\n",
       "      <th>like_Count</th>\n",
       "      <th>Dislike_Count</th>\n",
       "      <th>Comment_Count</th>\n",
       "      <th>Duration</th>\n",
       "      <th>Fav_Count</th>\n",
       "    </tr>\n",
       "  </thead>\n",
       "  <tbody>\n",
       "    <tr>\n",
       "      <th>3320</th>\n",
       "      <td>ZRFoINOGzF0</td>\n",
       "      <td>Spring Fever</td>\n",
       "      <td>Another of William Haines' sports-oriented veh...</td>\n",
       "      <td>{'comments': [], 'replies': []}</td>\n",
       "      <td>0</td>\n",
       "      <td>4</td>\n",
       "      <td>1</td>\n",
       "      <td>0</td>\n",
       "      <td>PT1H18M17S</td>\n",
       "      <td>0</td>\n",
       "    </tr>\n",
       "    <tr>\n",
       "      <th>4281</th>\n",
       "      <td>4yl9WtMypkg</td>\n",
       "      <td>Black Fury</td>\n",
       "      <td>Based on real-life events, Black Fury brings v...</td>\n",
       "      <td>{'comments': ['Paul Muni, who along with Fredr...</td>\n",
       "      <td>0</td>\n",
       "      <td>6</td>\n",
       "      <td>1</td>\n",
       "      <td>1</td>\n",
       "      <td>PT1H33M56S</td>\n",
       "      <td>0</td>\n",
       "    </tr>\n",
       "    <tr>\n",
       "      <th>9075</th>\n",
       "      <td>EaWaBj6bqmA</td>\n",
       "      <td>Okie Noodling</td>\n",
       "      <td>Okie Noodling profiles the culture and sport o...</td>\n",
       "      <td>{'comments': [], 'replies': []}</td>\n",
       "      <td>0</td>\n",
       "      <td>9</td>\n",
       "      <td>1</td>\n",
       "      <td>0</td>\n",
       "      <td>PT45M9S</td>\n",
       "      <td>0</td>\n",
       "    </tr>\n",
       "    <tr>\n",
       "      <th>5718</th>\n",
       "      <td>_4WgxKTJ09E</td>\n",
       "      <td>Ballad of Cable Hogue - Trailer</td>\n",
       "      <td>Sam Peckinpah's light-hearted, rambunctious od...</td>\n",
       "      <td>{'comments': ['???????????????????????????????...</td>\n",
       "      <td>0</td>\n",
       "      <td>169</td>\n",
       "      <td>10</td>\n",
       "      <td>6</td>\n",
       "      <td>PT2M57S</td>\n",
       "      <td>0</td>\n",
       "    </tr>\n",
       "    <tr>\n",
       "      <th>8798</th>\n",
       "      <td>TuuqBBVkVB8</td>\n",
       "      <td>Who's the Caboose</td>\n",
       "      <td>Sarah Silverman (The Sarah Silverman Program),...</td>\n",
       "      <td>{'comments': [], 'replies': []}</td>\n",
       "      <td>0</td>\n",
       "      <td>3</td>\n",
       "      <td>1</td>\n",
       "      <td>0</td>\n",
       "      <td>PT1H33M9S</td>\n",
       "      <td>0</td>\n",
       "    </tr>\n",
       "    <tr>\n",
       "      <th>18192</th>\n",
       "      <td>eyhE8H78NOU</td>\n",
       "      <td>The Ballad Of Nessie</td>\n",
       "      <td>\"The Ballad of Nessie\" is a whimsical and colo...</td>\n",
       "      <td>{'comments': [], 'replies': []}</td>\n",
       "      <td>0</td>\n",
       "      <td>0</td>\n",
       "      <td>0</td>\n",
       "      <td>0</td>\n",
       "      <td>PT5M32S</td>\n",
       "      <td>0</td>\n",
       "    </tr>\n",
       "    <tr>\n",
       "      <th>4927</th>\n",
       "      <td>gf7JRO9Ha1o</td>\n",
       "      <td>Behold A Pale Horse</td>\n",
       "      <td>Manuel has been on the run for 15 yearsand now...</td>\n",
       "      <td>{'comments': ['Good film and good acting'], 'r...</td>\n",
       "      <td>0</td>\n",
       "      <td>22</td>\n",
       "      <td>4</td>\n",
       "      <td>1</td>\n",
       "      <td>PT2H1M8S</td>\n",
       "      <td>0</td>\n",
       "    </tr>\n",
       "    <tr>\n",
       "      <th>3382</th>\n",
       "      <td>IzS2e9m5848</td>\n",
       "      <td>The End Of The Affair (1955)</td>\n",
       "      <td>From the novel by Graham Greene comes this sto...</td>\n",
       "      <td>{'comments': ['Deborah Kerr good actress but V...</td>\n",
       "      <td>0</td>\n",
       "      <td>17</td>\n",
       "      <td>5</td>\n",
       "      <td>6</td>\n",
       "      <td>PT1H45M47S</td>\n",
       "      <td>0</td>\n",
       "    </tr>\n",
       "    <tr>\n",
       "      <th>1708</th>\n",
       "      <td>irjJknY_r0Q</td>\n",
       "      <td>Houseguest</td>\n",
       "      <td>Hollywood's leading funnyman Sinbad drops in f...</td>\n",
       "      <td>{'comments': [], 'replies': []}</td>\n",
       "      <td>0</td>\n",
       "      <td>251</td>\n",
       "      <td>32</td>\n",
       "      <td>0</td>\n",
       "      <td>PT1H44M17S</td>\n",
       "      <td>0</td>\n",
       "    </tr>\n",
       "    <tr>\n",
       "      <th>13276</th>\n",
       "      <td>ksHPfmx6y-4</td>\n",
       "      <td>Born Reckless</td>\n",
       "      <td>After a man (Edmund Lowe) convicted of theft i...</td>\n",
       "      <td>{'comments': [], 'replies': []}</td>\n",
       "      <td>0</td>\n",
       "      <td>1</td>\n",
       "      <td>0</td>\n",
       "      <td>0</td>\n",
       "      <td>PT1H16M40S</td>\n",
       "      <td>0</td>\n",
       "    </tr>\n",
       "  </tbody>\n",
       "</table>\n",
       "</div>"
      ],
      "text/plain": [
       "         YoutubeId                            Title  \\\n",
       "3320   ZRFoINOGzF0                     Spring Fever   \n",
       "4281   4yl9WtMypkg                       Black Fury   \n",
       "9075   EaWaBj6bqmA                    Okie Noodling   \n",
       "5718   _4WgxKTJ09E  Ballad of Cable Hogue - Trailer   \n",
       "8798   TuuqBBVkVB8                Who's the Caboose   \n",
       "18192  eyhE8H78NOU             The Ballad Of Nessie   \n",
       "4927   gf7JRO9Ha1o              Behold A Pale Horse   \n",
       "3382   IzS2e9m5848     The End Of The Affair (1955)   \n",
       "1708   irjJknY_r0Q                       Houseguest   \n",
       "13276  ksHPfmx6y-4                    Born Reckless   \n",
       "\n",
       "                                             Description  \\\n",
       "3320   Another of William Haines' sports-oriented veh...   \n",
       "4281   Based on real-life events, Black Fury brings v...   \n",
       "9075   Okie Noodling profiles the culture and sport o...   \n",
       "5718   Sam Peckinpah's light-hearted, rambunctious od...   \n",
       "8798   Sarah Silverman (The Sarah Silverman Program),...   \n",
       "18192  \"The Ballad of Nessie\" is a whimsical and colo...   \n",
       "4927   Manuel has been on the run for 15 yearsand now...   \n",
       "3382   From the novel by Graham Greene comes this sto...   \n",
       "1708   Hollywood's leading funnyman Sinbad drops in f...   \n",
       "13276  After a man (Edmund Lowe) convicted of theft i...   \n",
       "\n",
       "                                                comments  View_Count  \\\n",
       "3320                     {'comments': [], 'replies': []}           0   \n",
       "4281   {'comments': ['Paul Muni, who along with Fredr...           0   \n",
       "9075                     {'comments': [], 'replies': []}           0   \n",
       "5718   {'comments': ['???????????????????????????????...           0   \n",
       "8798                     {'comments': [], 'replies': []}           0   \n",
       "18192                    {'comments': [], 'replies': []}           0   \n",
       "4927   {'comments': ['Good film and good acting'], 'r...           0   \n",
       "3382   {'comments': ['Deborah Kerr good actress but V...           0   \n",
       "1708                     {'comments': [], 'replies': []}           0   \n",
       "13276                    {'comments': [], 'replies': []}           0   \n",
       "\n",
       "       like_Count  Dislike_Count  Comment_Count    Duration  Fav_Count  \n",
       "3320            4              1              0  PT1H18M17S          0  \n",
       "4281            6              1              1  PT1H33M56S          0  \n",
       "9075            9              1              0     PT45M9S          0  \n",
       "5718          169             10              6     PT2M57S          0  \n",
       "8798            3              1              0   PT1H33M9S          0  \n",
       "18192           0              0              0     PT5M32S          0  \n",
       "4927           22              4              1    PT2H1M8S          0  \n",
       "3382           17              5              6  PT1H45M47S          0  \n",
       "1708          251             32              0  PT1H44M17S          0  \n",
       "13276           1              0              0  PT1H16M40S          0  "
      ]
     },
     "metadata": {},
     "output_type": "display_data"
    }
   ],
   "source": [
    "display(least_10_views)"
   ]
  },
  {
   "cell_type": "code",
   "execution_count": 152,
   "metadata": {},
   "outputs": [
    {
     "name": "stderr",
     "output_type": "stream",
     "text": [
      "<ipython-input-152-e83fd5d05412>:26: UserWarning: FixedFormatter should only be used together with FixedLocator\n",
      "  ax.set_xticklabels(labels=least_10_views['YoutubeId'],rotation=90, fontsize=16)\n"
     ]
    },
    {
     "data": {
      "image/png": "[encoded data removed]",
      "text/plain": [
       "<Figure size 1080x360 with 1 Axes>"
      ]
     },
     "metadata": {
      "needs_background": "light"
     },
     "output_type": "display_data"
    }
   ],
   "source": [
    "my_colors = ['black', 'red', 'green', 'blue', 'purple', 'grey', 'maroon', 'salmon', 'yellow','pink']\n",
    "labels = least_10_views['Title'].values.tolist()\n",
    "\n",
    "f = plt.figure(figsize =(15, 5) )\n",
    "\n",
    "\n",
    "ax = plt.subplot(111) #specify a subplot\n",
    "\n",
    "count = 0\n",
    "for index, row in least_10_views.iterrows():\n",
    "    ax.bar(row['YoutubeId'], row['View_Count'], color =my_colors[count], label = labels[count])\n",
    "    count+=1\n",
    "    \n",
    "ax=plt.gca()\n",
    "\n",
    "ax.set_xticklabels(labels=least_10_views['YoutubeId'],rotation=90, fontsize=16)\n",
    "\n",
    "ax.set_xlabel(\"Youtube Video Ids\", fontsize=18, labelpad=5, color='maroon')\n",
    "ax.set_ylabel(\"Vieiw Count\", fontsize=18, labelpad=5, color='maroon')\n",
    "ax.spines['right'].set_color('none')\n",
    "ax.spines['top'].set_color('none')\n",
    "plt.title(\"Bottom 10 Viewed Videos\", fontsize=16)\n",
    "\n",
    "plt.legend(labels,loc='best', frameon=False)#, bbox_to_anchor=(0.5, -0.5))\n",
    "plt.show()"
   ]
  },
  {
   "cell_type": "markdown",
   "metadata": {},
   "source": [
    "### 3) The most liked video"
   ]
  },
  {
   "cell_type": "code",
   "execution_count": 153,
   "metadata": {},
   "outputs": [],
   "source": [
    "top_liked_videos = df_extracted_2.sort_values(by=['like_Count'], ascending=False).head(10)"
   ]
  },
  {
   "cell_type": "markdown",
   "metadata": {},
   "source": [
    "#### Title of top 10 liked videos"
   ]
  },
  {
   "cell_type": "code",
   "execution_count": 154,
   "metadata": {},
   "outputs": [
    {
     "name": "stdout",
     "output_type": "stream",
     "text": [
      "Top 10 liked videos: ['John Legend - All of Me (Official Video)', 'Fresh Guacamole by PES | Oscar Nominated Short', 'Britney Spears - Ooh La La (From The Smurfs 2)', 'The Fault In Our Stars | Official Trailer [HD] | 20th Century FOX', 'Beastie Boys - Sabotage', 'Kiwi!', 'The Horribly Slow Murderer with the Extremely Inefficient Weapon by Richard Gale', 'POWER/RANGERS UNAUTHORIZED  [BOOTLEG UNIVERSE]', 'Too Many Cooks | Adult Swim', 'THE PUNISHER: DIRTY LAUNDRY [BOOTLEG UNIVERSE]']\n"
     ]
    }
   ],
   "source": [
    "labels = top_liked_videos['Title'].values.tolist()\n",
    "print('Top 10 liked videos:',labels)"
   ]
  },
  {
   "cell_type": "code",
   "execution_count": 155,
   "metadata": {},
   "outputs": [
    {
     "name": "stderr",
     "output_type": "stream",
     "text": [
      "<ipython-input-155-2adf4ec7c8fb>:15: UserWarning: FixedFormatter should only be used together with FixedLocator\n",
      "  ax.set_xticklabels(labels=top_liked_videos['YoutubeId'],rotation=90, fontsize=16)\n"
     ]
    },
    {
     "data": {
      "image/png": "[encoded data removed]",
      "text/plain": [
       "<Figure size 1080x360 with 1 Axes>"
      ]
     },
     "metadata": {
      "needs_background": "light"
     },
     "output_type": "display_data"
    }
   ],
   "source": [
    "my_colors = ['black', 'red', 'green', 'blue', 'purple', 'grey', 'maroon', 'salmon', 'yellow','pink']\n",
    "\n",
    "f = plt.figure(figsize =(15, 5) )\n",
    "\n",
    "\n",
    "ax = plt.subplot(111) #specify a subplot\n",
    "\n",
    "count = 0\n",
    "for index, row in top_liked_videos.iterrows():\n",
    "    ax.bar(row['YoutubeId'], row['like_Count'], color =my_colors[count], label = labels[count])\n",
    "    count+=1\n",
    "    \n",
    "ax=plt.gca()\n",
    "\n",
    "ax.set_xticklabels(labels=top_liked_videos['YoutubeId'],rotation=90, fontsize=16)\n",
    "\n",
    "ax.set_xlabel(\"Youtube Video Ids\", fontsize=18, labelpad=5, color='maroon')\n",
    "ax.set_ylabel(\"Like Count\", fontsize=18, labelpad=5, color='maroon')\n",
    "ax.spines['right'].set_color('none')\n",
    "ax.spines['top'].set_color('none')\n",
    "plt.title(\"Top 10 Liked videos\", fontsize=16)\n",
    "\n",
    "plt.legend(labels,loc='best', frameon=False)#, bbox_to_anchor=(0.5, -0.5))\n",
    "\n",
    "plt.show()"
   ]
  },
  {
   "cell_type": "markdown",
   "metadata": {},
   "source": [
    "### 4) The least liked video"
   ]
  },
  {
   "cell_type": "code",
   "execution_count": 156,
   "metadata": {},
   "outputs": [],
   "source": [
    "least_10_liked = df_extracted_2.sort_values(by=['like_Count'], ascending=False).tail(5)"
   ]
  },
  {
   "cell_type": "code",
   "execution_count": 157,
   "metadata": {},
   "outputs": [
    {
     "data": {
      "text/html": [
       "<div>\n",
       "<style scoped>\n",
       "    .dataframe tbody tr th:only-of-type {\n",
       "        vertical-align: middle;\n",
       "    }\n",
       "\n",
       "    .dataframe tbody tr th {\n",
       "        vertical-align: top;\n",
       "    }\n",
       "\n",
       "    .dataframe thead th {\n",
       "        text-align: right;\n",
       "    }\n",
       "</style>\n",
       "<table border=\"1\" class=\"dataframe\">\n",
       "  <thead>\n",
       "    <tr style=\"text-align: right;\">\n",
       "      <th></th>\n",
       "      <th>YoutubeId</th>\n",
       "      <th>Title</th>\n",
       "      <th>Description</th>\n",
       "      <th>comments</th>\n",
       "      <th>View_Count</th>\n",
       "      <th>like_Count</th>\n",
       "      <th>Dislike_Count</th>\n",
       "      <th>Comment_Count</th>\n",
       "      <th>Duration</th>\n",
       "      <th>Fav_Count</th>\n",
       "    </tr>\n",
       "  </thead>\n",
       "  <tbody>\n",
       "    <tr>\n",
       "      <th>1554</th>\n",
       "      <td>24XiqMIC6q8</td>\n",
       "      <td>48 Hrs. - Trailer</td>\n",
       "      <td>Nick Nolte and Eddie Murphy make one of the mo...</td>\n",
       "      <td>{'comments': [], 'replies': []}</td>\n",
       "      <td>477932</td>\n",
       "      <td>0</td>\n",
       "      <td>0</td>\n",
       "      <td>0</td>\n",
       "      <td>PT3M7S</td>\n",
       "      <td>0</td>\n",
       "    </tr>\n",
       "    <tr>\n",
       "      <th>16787</th>\n",
       "      <td>JzYllBpl-9I</td>\n",
       "      <td>Happiness - Trailer</td>\n",
       "      <td>From Todd Solondz, director of the acclaimed W...</td>\n",
       "      <td>{'comments': [], 'replies': []}</td>\n",
       "      <td>613333</td>\n",
       "      <td>0</td>\n",
       "      <td>0</td>\n",
       "      <td>0</td>\n",
       "      <td>PT2M4S</td>\n",
       "      <td>0</td>\n",
       "    </tr>\n",
       "    <tr>\n",
       "      <th>17728</th>\n",
       "      <td>oqWMDmFx4lo</td>\n",
       "      <td>Virginia City - Trailer</td>\n",
       "      <td>After escaping from a Confederate prison durin...</td>\n",
       "      <td>{'comments': [], 'replies': []}</td>\n",
       "      <td>17859</td>\n",
       "      <td>0</td>\n",
       "      <td>0</td>\n",
       "      <td>0</td>\n",
       "      <td>PT1M58S</td>\n",
       "      <td>0</td>\n",
       "    </tr>\n",
       "    <tr>\n",
       "      <th>12117</th>\n",
       "      <td>suaDCyBbXXg</td>\n",
       "      <td>A Piece of the Action - Trailer</td>\n",
       "      <td>Sidney Poitier directed and stars in this come...</td>\n",
       "      <td>{'comments': [], 'replies': []}</td>\n",
       "      <td>100903</td>\n",
       "      <td>0</td>\n",
       "      <td>0</td>\n",
       "      <td>0</td>\n",
       "      <td>PT2M5S</td>\n",
       "      <td>0</td>\n",
       "    </tr>\n",
       "    <tr>\n",
       "      <th>10676</th>\n",
       "      <td>9daIbBlaEIA</td>\n",
       "      <td>Unhook the Stars - Trailer</td>\n",
       "      <td>Gena Rowlands and Academy Award winner Marisa ...</td>\n",
       "      <td>{'comments': [], 'replies': []}</td>\n",
       "      <td>14986</td>\n",
       "      <td>0</td>\n",
       "      <td>0</td>\n",
       "      <td>0</td>\n",
       "      <td>PT2M25S</td>\n",
       "      <td>0</td>\n",
       "    </tr>\n",
       "  </tbody>\n",
       "</table>\n",
       "</div>"
      ],
      "text/plain": [
       "         YoutubeId                            Title  \\\n",
       "1554   24XiqMIC6q8                48 Hrs. - Trailer   \n",
       "16787  JzYllBpl-9I              Happiness - Trailer   \n",
       "17728  oqWMDmFx4lo          Virginia City - Trailer   \n",
       "12117  suaDCyBbXXg  A Piece of the Action - Trailer   \n",
       "10676  9daIbBlaEIA       Unhook the Stars - Trailer   \n",
       "\n",
       "                                             Description  \\\n",
       "1554   Nick Nolte and Eddie Murphy make one of the mo...   \n",
       "16787  From Todd Solondz, director of the acclaimed W...   \n",
       "17728  After escaping from a Confederate prison durin...   \n",
       "12117  Sidney Poitier directed and stars in this come...   \n",
       "10676  Gena Rowlands and Academy Award winner Marisa ...   \n",
       "\n",
       "                              comments  View_Count  like_Count  Dislike_Count  \\\n",
       "1554   {'comments': [], 'replies': []}      477932           0              0   \n",
       "16787  {'comments': [], 'replies': []}      613333           0              0   \n",
       "17728  {'comments': [], 'replies': []}       17859           0              0   \n",
       "12117  {'comments': [], 'replies': []}      100903           0              0   \n",
       "10676  {'comments': [], 'replies': []}       14986           0              0   \n",
       "\n",
       "       Comment_Count Duration  Fav_Count  \n",
       "1554               0   PT3M7S          0  \n",
       "16787              0   PT2M4S          0  \n",
       "17728              0  PT1M58S          0  \n",
       "12117              0   PT2M5S          0  \n",
       "10676              0  PT2M25S          0  "
      ]
     },
     "metadata": {},
     "output_type": "display_data"
    }
   ],
   "source": [
    "display(least_10_liked)"
   ]
  },
  {
   "cell_type": "markdown",
   "metadata": {},
   "source": [
    "#### Title of Least 5 liked videos"
   ]
  },
  {
   "cell_type": "code",
   "execution_count": 158,
   "metadata": {},
   "outputs": [
    {
     "name": "stdout",
     "output_type": "stream",
     "text": [
      "Least 5 liked Video: ['48 Hrs. - Trailer', 'Happiness - Trailer', 'Virginia City - Trailer', 'A Piece of the Action - Trailer', 'Unhook the Stars - Trailer']\n"
     ]
    }
   ],
   "source": [
    "labels = least_10_liked['Title'].values.tolist()\n",
    "print('Least 5 liked Video:',labels)"
   ]
  },
  {
   "cell_type": "code",
   "execution_count": 159,
   "metadata": {},
   "outputs": [
    {
     "name": "stderr",
     "output_type": "stream",
     "text": [
      "<ipython-input-159-47581953e8aa>:15: UserWarning: FixedFormatter should only be used together with FixedLocator\n",
      "  ax.set_xticklabels(labels=least_10_liked['YoutubeId'],rotation=90, fontsize=16)\n"
     ]
    },
    {
     "data": {
      "image/png": "[encoded data removed]",
      "text/plain": [
       "<Figure size 1080x360 with 1 Axes>"
      ]
     },
     "metadata": {
      "needs_background": "light"
     },
     "output_type": "display_data"
    }
   ],
   "source": [
    "my_colors = ['black', 'red', 'green', 'blue', 'purple', 'grey', 'maroon', 'salmon', 'yellow','pink']\n",
    "\n",
    "f = plt.figure(figsize =(15, 5) )\n",
    "\n",
    "\n",
    "ax = plt.subplot(111) #specify a subplot\n",
    "\n",
    "count = 0\n",
    "for index, row in least_10_liked.iterrows():\n",
    "    ax.bar(row['YoutubeId'], row['like_Count'], color =my_colors[count], label = labels[count])\n",
    "    count+=1\n",
    "    \n",
    "ax=plt.gca()\n",
    "\n",
    "ax.set_xticklabels(labels=least_10_liked['YoutubeId'],rotation=90, fontsize=16)\n",
    "\n",
    "ax.set_xlabel(\"Youtube Video Ids\", fontsize=18, labelpad=5, color='maroon')\n",
    "ax.set_ylabel(\"Like Count\", fontsize=18, labelpad=5, color='maroon')\n",
    "ax.spines['right'].set_color('none')\n",
    "ax.spines['top'].set_color('none')\n",
    "plt.title(\"Least 5 Liked videos\", fontsize=16)\n",
    "\n",
    "plt.legend(labels,loc='best', frameon=False)#, bbox_to_anchor=(0.5, -0.5))\n",
    "\n",
    "plt.show()"
   ]
  },
  {
   "cell_type": "markdown",
   "metadata": {},
   "source": [
    "### 5) The video with the highest duration"
   ]
  },
  {
   "cell_type": "code",
   "execution_count": 160,
   "metadata": {},
   "outputs": [],
   "source": [
    "def hoursToMins(x):\n",
    "    hrs = 0\n",
    "    mins = 0\n",
    "    sec = 0\n",
    "    #Here, x will be PT1M59S\n",
    "    if 'PT' in x:\n",
    "        #print(x)\n",
    "        x = x.split('PT')\n",
    "        \n",
    "        if 'H' in x[1]:\n",
    "            x = x[1].split('H')\n",
    "            hrs = int(x[0])\n",
    "            if 'M' in x[1]: #PT2M1S\n",
    "                x = x[1].split('M') #PT - 1M59S\n",
    "                mins = int(x[0])\n",
    "            if 'S' in x[1]:\n",
    "                x = x[1].split('S') #PT - 1M59S\n",
    "                sec = int(x[0])\n",
    "            \n",
    "        elif 'M' in x[1]: #PT2M1S\n",
    "            x = x[1].split('M') #PT - 1M59S\n",
    "            mins = int(x[0])\n",
    "            if 'S' in x[1]:\n",
    "                x = x[1].split('S') #PT - 1M59S\n",
    "                sec = int(x[0])\n",
    "        elif 'S' in x[1]:\n",
    "            x = x[1].split('S') #PT - 1M59S\n",
    "            sec = int(x[0])\n",
    "            \n",
    "    total_secs = hrs*60*60 + mins*60 + sec\n",
    "    #print(hrs, hrs*60*60, mins, mins*60, sec)\n",
    "    return total_secs\n",
    "    \n",
    "#hoursToMins('PT1H20S')"
   ]
  },
  {
   "cell_type": "code",
   "execution_count": 161,
   "metadata": {},
   "outputs": [],
   "source": [
    "df_extracted_2['Duration(in secs)'] = df_extracted_2['Duration'].apply(lambda x: hoursToMins(x))"
   ]
  },
  {
   "cell_type": "code",
   "execution_count": 162,
   "metadata": {},
   "outputs": [],
   "source": [
    "top_duration_videos = df_extracted_2.sort_values(by=['Duration(in secs)'], ascending=False).head(5)"
   ]
  },
  {
   "cell_type": "markdown",
   "metadata": {},
   "source": [
    "#### Title of the videos that has the highest duration"
   ]
  },
  {
   "cell_type": "code",
   "execution_count": 163,
   "metadata": {},
   "outputs": [
    {
     "name": "stdout",
     "output_type": "stream",
     "text": [
      "Top 5 highest duration Video: ['Trailer for \"Getting to Know You\"', 'The Century of the Self (Full Documentary)', 'The best of youth (trailer)', 'Peter Brook - Mahabharata 1', 'Kevin Smith: Too Fat for 40']\n"
     ]
    }
   ],
   "source": [
    "labels = top_duration_videos['Title'].values.tolist()\n",
    "print('Top 5 highest duration Video:',labels)"
   ]
  },
  {
   "cell_type": "markdown",
   "metadata": {},
   "source": [
    "### 6) Apply sentiment analysis on the downloaded comments for each of the videos. For sentiment analysis, you can use VADER or any other tool of your choice. Your program should list the sentiments score for each of the movies"
   ]
  },
  {
   "cell_type": "code",
   "execution_count": 164,
   "metadata": {},
   "outputs": [],
   "source": [
    "translator = google_translator()\n",
    "sid_analyzer = SentimentIntensityAnalyzer()"
   ]
  },
  {
   "cell_type": "code",
   "execution_count": 165,
   "metadata": {},
   "outputs": [
    {
     "data": {
      "text/html": [
       "<div>\n",
       "<style scoped>\n",
       "    .dataframe tbody tr th:only-of-type {\n",
       "        vertical-align: middle;\n",
       "    }\n",
       "\n",
       "    .dataframe tbody tr th {\n",
       "        vertical-align: top;\n",
       "    }\n",
       "\n",
       "    .dataframe thead th {\n",
       "        text-align: right;\n",
       "    }\n",
       "</style>\n",
       "<table border=\"1\" class=\"dataframe\">\n",
       "  <thead>\n",
       "    <tr style=\"text-align: right;\">\n",
       "      <th></th>\n",
       "      <th>View_Count</th>\n",
       "      <th>like_Count</th>\n",
       "      <th>Dislike_Count</th>\n",
       "      <th>Comment_Count</th>\n",
       "      <th>Fav_Count</th>\n",
       "      <th>Duration(in secs)</th>\n",
       "    </tr>\n",
       "  </thead>\n",
       "  <tbody>\n",
       "    <tr>\n",
       "      <th>count</th>\n",
       "      <td>1.889600e+04</td>\n",
       "      <td>1.889600e+04</td>\n",
       "      <td>18896.000000</td>\n",
       "      <td>18896.000000</td>\n",
       "      <td>18896.0</td>\n",
       "      <td>18896.000000</td>\n",
       "    </tr>\n",
       "    <tr>\n",
       "      <th>mean</th>\n",
       "      <td>7.037882e+05</td>\n",
       "      <td>2.409830e+03</td>\n",
       "      <td>152.401461</td>\n",
       "      <td>225.379763</td>\n",
       "      <td>0.0</td>\n",
       "      <td>414.329382</td>\n",
       "    </tr>\n",
       "    <tr>\n",
       "      <th>std</th>\n",
       "      <td>1.468251e+07</td>\n",
       "      <td>7.972435e+04</td>\n",
       "      <td>3229.688150</td>\n",
       "      <td>2233.122176</td>\n",
       "      <td>0.0</td>\n",
       "      <td>1245.247440</td>\n",
       "    </tr>\n",
       "    <tr>\n",
       "      <th>min</th>\n",
       "      <td>0.000000e+00</td>\n",
       "      <td>0.000000e+00</td>\n",
       "      <td>0.000000</td>\n",
       "      <td>0.000000</td>\n",
       "      <td>0.0</td>\n",
       "      <td>0.000000</td>\n",
       "    </tr>\n",
       "    <tr>\n",
       "      <th>25%</th>\n",
       "      <td>1.948925e+04</td>\n",
       "      <td>3.400000e+01</td>\n",
       "      <td>2.000000</td>\n",
       "      <td>3.000000</td>\n",
       "      <td>0.0</td>\n",
       "      <td>100.000000</td>\n",
       "    </tr>\n",
       "    <tr>\n",
       "      <th>50%</th>\n",
       "      <td>7.372650e+04</td>\n",
       "      <td>1.330000e+02</td>\n",
       "      <td>8.000000</td>\n",
       "      <td>15.000000</td>\n",
       "      <td>0.0</td>\n",
       "      <td>130.000000</td>\n",
       "    </tr>\n",
       "    <tr>\n",
       "      <th>75%</th>\n",
       "      <td>2.932128e+05</td>\n",
       "      <td>5.342500e+02</td>\n",
       "      <td>34.000000</td>\n",
       "      <td>70.000000</td>\n",
       "      <td>0.0</td>\n",
       "      <td>160.000000</td>\n",
       "    </tr>\n",
       "    <tr>\n",
       "      <th>max</th>\n",
       "      <td>1.942935e+09</td>\n",
       "      <td>1.057922e+07</td>\n",
       "      <td>320442.000000</td>\n",
       "      <td>230513.000000</td>\n",
       "      <td>0.0</td>\n",
       "      <td>46164.000000</td>\n",
       "    </tr>\n",
       "  </tbody>\n",
       "</table>\n",
       "</div>"
      ],
      "text/plain": [
       "         View_Count    like_Count  Dislike_Count  Comment_Count  Fav_Count  \\\n",
       "count  1.889600e+04  1.889600e+04   18896.000000   18896.000000    18896.0   \n",
       "mean   7.037882e+05  2.409830e+03     152.401461     225.379763        0.0   \n",
       "std    1.468251e+07  7.972435e+04    3229.688150    2233.122176        0.0   \n",
       "min    0.000000e+00  0.000000e+00       0.000000       0.000000        0.0   \n",
       "25%    1.948925e+04  3.400000e+01       2.000000       3.000000        0.0   \n",
       "50%    7.372650e+04  1.330000e+02       8.000000      15.000000        0.0   \n",
       "75%    2.932128e+05  5.342500e+02      34.000000      70.000000        0.0   \n",
       "max    1.942935e+09  1.057922e+07  320442.000000  230513.000000        0.0   \n",
       "\n",
       "       Duration(in secs)  \n",
       "count       18896.000000  \n",
       "mean          414.329382  \n",
       "std          1245.247440  \n",
       "min             0.000000  \n",
       "25%           100.000000  \n",
       "50%           130.000000  \n",
       "75%           160.000000  \n",
       "max         46164.000000  "
      ]
     },
     "execution_count": 165,
     "metadata": {},
     "output_type": "execute_result"
    }
   ],
   "source": [
    "df_extracted_2.describe()"
   ]
  },
  {
   "cell_type": "code",
   "execution_count": 166,
   "metadata": {},
   "outputs": [
    {
     "data": {
      "text/plain": [
       "4258776"
      ]
     },
     "execution_count": 166,
     "metadata": {},
     "output_type": "execute_result"
    }
   ],
   "source": [
    "df_extracted_2['Comment_Count'].sum()"
   ]
  },
  {
   "cell_type": "code",
   "execution_count": 167,
   "metadata": {},
   "outputs": [],
   "source": [
    "dictionaryObject = df_extracted_2['comments'].to_dict()"
   ]
  },
  {
   "cell_type": "code",
   "execution_count": 168,
   "metadata": {},
   "outputs": [],
   "source": [
    "count = 0\n",
    "list = []\n",
    "for i in dictionaryObject:\n",
    "    #count+=1\n",
    "    #print(i)\n",
    "    #print(dictionaryObject[i])\n",
    "    obj = dictionaryObject[i].strip()\n",
    "    \n",
    "    if \", 'replies':\" in obj:#dictionaryObject[i]:\n",
    "        obj = obj.split(\", 'replies':\")#dictionaryObject[i].split(\", 'replies':\")\n",
    "        obj = obj[0]+'}'\n",
    "        \n",
    "    try:\n",
    "        dic = eval(obj)#dictionaryObject[i])\n",
    "        #print(dic['comments'])\n",
    "    except:\n",
    "        try:\n",
    "            if obj[-2:] != ']}':#dictionaryObject[i][-2:] != ']}':\n",
    "                if obj[-1] == \"'\" :\n",
    "                    obj = obj+\"]}\"\n",
    "                elif obj[-1] == \",\":\n",
    "                    if obj[-2] == \"'\":\n",
    "                        obj = obj+\"'']}\"\n",
    "                    else:\n",
    "                        obj = obj+\"']}\"\n",
    "                else:\n",
    "                    obj = obj+\"']}\"\n",
    "            dic = eval(obj)#dictionaryObject[i])\n",
    "        except:\n",
    "            obj = \"{'comments': ['']}\"\n",
    "            dic = eval(obj)#dictionaryObject[i])\n",
    "            count+=1\n",
    "    \n",
    "    list.append(\"\".join(dic['comments']))"
   ]
  },
  {
   "cell_type": "code",
   "execution_count": 169,
   "metadata": {},
   "outputs": [
    {
     "name": "stdout",
     "output_type": "stream",
     "text": [
      "Total Videos: 18896\n",
      "Total error count while parsing Comments of Videos: 4\n"
     ]
    }
   ],
   "source": [
    "print('Total Videos:', len(df_extracted_2['comments']))\n",
    "print('Total error count while parsing Comments of Videos:',count)"
   ]
  },
  {
   "cell_type": "code",
   "execution_count": 170,
   "metadata": {},
   "outputs": [
    {
     "name": "stdout",
     "output_type": "stream",
     "text": [
      "Inbuilt Punctuations: !\"#$%&'()*+,-./:;<=>?@[\\]^_`{|}~\n",
      "Custom Punctuations: \"#$%&'()*+,-./:;<=>@[\\]^_`{|}~\n"
     ]
    }
   ],
   "source": [
    "print('Inbuilt Punctuations:',string.punctuation)\n",
    "custom_punctuation = '\"#$%&\\'()*+,-./:;<=>@[\\\\]^_`{|}~'\n",
    "print('Custom Punctuations:',custom_punctuation)"
   ]
  },
  {
   "cell_type": "code",
   "execution_count": 171,
   "metadata": {},
   "outputs": [],
   "source": [
    "def comment_Cleaning(list, custom_punctuation):\n",
    "    #translated_txt =[translator.translate(x,lang_tgt='en') for x in list]\n",
    "    \n",
    "    # Lowering text\n",
    "    list_lower = [x.lower() for x in list]\n",
    "    \n",
    "    #Remvoing punctuations\n",
    "    puntuation_filtered_txt = [txt.translate(str.maketrans(custom_punctuation, ' '*len(custom_punctuation))) for txt in list_lower]\n",
    "    \n",
    "    #Removing extra spaces\n",
    "    pattern_1 = \"\\s+\"\n",
    "    cleaned_txt=[re.sub(pattern_1,\" \",x) for x in puntuation_filtered_txt]\n",
    "    \n",
    "    #Handlling unnecessary letter repetition\n",
    "    pattern_2=re.compile(r\"(.)\\1{2,}\")\n",
    "    cleaned_txt=[pattern_2.sub(r\"\\1\\1\",x) for x in cleaned_txt]\n",
    "    \n",
    "    return cleaned_txt   "
   ]
  },
  {
   "cell_type": "code",
   "execution_count": 172,
   "metadata": {},
   "outputs": [],
   "source": [
    "cleaned_comments = comment_Cleaning(list, custom_punctuation)"
   ]
  },
  {
   "cell_type": "code",
   "execution_count": 173,
   "metadata": {},
   "outputs": [],
   "source": [
    "def sentiment_scores(sentence):\n",
    "    # Create a SentimentIntensityAnalyzer object.\n",
    "    sid_obj = SentimentIntensityAnalyzer()\n",
    "    sentiment_dict = sid_obj.polarity_scores(sentence)\n",
    "    \n",
    "    score = round(sentiment_dict['compound'], 2)\n",
    "    return score"
   ]
  },
  {
   "cell_type": "code",
   "execution_count": 174,
   "metadata": {},
   "outputs": [],
   "source": [
    "def sentiments(score):\n",
    "    if score >= 0.05 :\n",
    "        return 'Positive'#f'Positive: {score}'\n",
    " \n",
    "    elif score <= - 0.05 :\n",
    "        return 'Negative'#f'Negative: {score}'\n",
    " \n",
    "    else :\n",
    "        return 'Neutral'#f'Neutral: {score}'"
   ]
  },
  {
   "cell_type": "code",
   "execution_count": 175,
   "metadata": {},
   "outputs": [],
   "source": [
    "sentiment = [sentiment_scores(comments) for comments in cleaned_comments]"
   ]
  },
  {
   "cell_type": "code",
   "execution_count": 176,
   "metadata": {},
   "outputs": [
    {
     "name": "stdout",
     "output_type": "stream",
     "text": [
      "Total list of comments: 18896\n",
      "Total list of cleaned comments: 18896\n",
      "Total list of comments sentiment: 18896\n"
     ]
    }
   ],
   "source": [
    "print('Total list of comments:',len(list))\n",
    "print('Total list of cleaned comments:',len(cleaned_comments))\n",
    "print('Total list of comments sentiment:',len(sentiment))\n",
    "#print('Total list of comments sentiment score:',len(score))"
   ]
  },
  {
   "cell_type": "code",
   "execution_count": 177,
   "metadata": {},
   "outputs": [],
   "source": [
    "df_extracted_2['Sentiment Score'] = sentiment\n",
    "df_extracted_2['Sentiment'] = df_extracted_2['Sentiment Score'].apply(lambda x: sentiments(x))"
   ]
  },
  {
   "cell_type": "code",
   "execution_count": 178,
   "metadata": {},
   "outputs": [
    {
     "data": {
      "text/html": [
       "<div>\n",
       "<style scoped>\n",
       "    .dataframe tbody tr th:only-of-type {\n",
       "        vertical-align: middle;\n",
       "    }\n",
       "\n",
       "    .dataframe tbody tr th {\n",
       "        vertical-align: top;\n",
       "    }\n",
       "\n",
       "    .dataframe thead th {\n",
       "        text-align: right;\n",
       "    }\n",
       "</style>\n",
       "<table border=\"1\" class=\"dataframe\">\n",
       "  <thead>\n",
       "    <tr style=\"text-align: right;\">\n",
       "      <th></th>\n",
       "      <th>YoutubeId</th>\n",
       "      <th>Title</th>\n",
       "      <th>Description</th>\n",
       "      <th>comments</th>\n",
       "      <th>View_Count</th>\n",
       "      <th>like_Count</th>\n",
       "      <th>Dislike_Count</th>\n",
       "      <th>Comment_Count</th>\n",
       "      <th>Duration</th>\n",
       "      <th>Fav_Count</th>\n",
       "      <th>Duration(in secs)</th>\n",
       "      <th>Sentiment Score</th>\n",
       "      <th>Sentiment</th>\n",
       "    </tr>\n",
       "  </thead>\n",
       "  <tbody>\n",
       "    <tr>\n",
       "      <th>0</th>\n",
       "      <td>PFCnp70cyp4</td>\n",
       "      <td>How to Pickup Using the Theory of Relativity!</td>\n",
       "      <td>From the bopic of Stephen Hawking, 'Hawking' (...</td>\n",
       "      <td>{'comments': ['Doesn&amp;#39;t work, I tried :/', ...</td>\n",
       "      <td>38078</td>\n",
       "      <td>205</td>\n",
       "      <td>2</td>\n",
       "      <td>22</td>\n",
       "      <td>PT2M1S</td>\n",
       "      <td>0</td>\n",
       "      <td>121</td>\n",
       "      <td>1.00</td>\n",
       "      <td>Positive</td>\n",
       "    </tr>\n",
       "    <tr>\n",
       "      <th>1</th>\n",
       "      <td>mU5Dhcjmkaw</td>\n",
       "      <td>Finding Joy - Theatrical Trailer (2013) Movie ...</td>\n",
       "      <td>Finding Joy - Theatrical Trailer (2013) Movie ...</td>\n",
       "      <td>{'comments': [], 'replies': []}</td>\n",
       "      <td>903</td>\n",
       "      <td>3</td>\n",
       "      <td>1</td>\n",
       "      <td>0</td>\n",
       "      <td>PT2M8S</td>\n",
       "      <td>0</td>\n",
       "      <td>128</td>\n",
       "      <td>0.00</td>\n",
       "      <td>Neutral</td>\n",
       "    </tr>\n",
       "    <tr>\n",
       "      <th>2</th>\n",
       "      <td>gOP3Uicg04U</td>\n",
       "      <td>'Now Is Good' Trailer HD</td>\n",
       "      <td>http://www.hollywood.com\\n\\n'Now Is Good' Trai...</td>\n",
       "      <td>{'comments': ['i know im little too lat ehere,...</td>\n",
       "      <td>218744</td>\n",
       "      <td>899</td>\n",
       "      <td>32</td>\n",
       "      <td>114</td>\n",
       "      <td>PT1M56S</td>\n",
       "      <td>0</td>\n",
       "      <td>116</td>\n",
       "      <td>1.00</td>\n",
       "      <td>Positive</td>\n",
       "    </tr>\n",
       "    <tr>\n",
       "      <th>3</th>\n",
       "      <td>iXjEqm39oMw</td>\n",
       "      <td>The Adonis Factor (Trailer)</td>\n",
       "      <td>DVD Release: October 2010\\n\\nBuy Now:http://sh...</td>\n",
       "      <td>{'comments': ['Sadly, unless you have six-pack...</td>\n",
       "      <td>27136</td>\n",
       "      <td>28</td>\n",
       "      <td>11</td>\n",
       "      <td>5</td>\n",
       "      <td>PT1M29S</td>\n",
       "      <td>0</td>\n",
       "      <td>89</td>\n",
       "      <td>-0.71</td>\n",
       "      <td>Negative</td>\n",
       "    </tr>\n",
       "    <tr>\n",
       "      <th>4</th>\n",
       "      <td>M1m020Mp39E</td>\n",
       "      <td>Call Me Kuchu Documentary Trailer</td>\n",
       "      <td>CALL ME KUCHU TRAILER \\n\\nIn Uganda, a new bil...</td>\n",
       "      <td>{'comments': ['i&amp;#39;m glad you are able to sh...</td>\n",
       "      <td>47973</td>\n",
       "      <td>182</td>\n",
       "      <td>11</td>\n",
       "      <td>14</td>\n",
       "      <td>PT4M38S</td>\n",
       "      <td>0</td>\n",
       "      <td>278</td>\n",
       "      <td>0.88</td>\n",
       "      <td>Positive</td>\n",
       "    </tr>\n",
       "  </tbody>\n",
       "</table>\n",
       "</div>"
      ],
      "text/plain": [
       "     YoutubeId                                              Title  \\\n",
       "0  PFCnp70cyp4      How to Pickup Using the Theory of Relativity!   \n",
       "1  mU5Dhcjmkaw  Finding Joy - Theatrical Trailer (2013) Movie ...   \n",
       "2  gOP3Uicg04U                           'Now Is Good' Trailer HD   \n",
       "3  iXjEqm39oMw                        The Adonis Factor (Trailer)   \n",
       "4  M1m020Mp39E                  Call Me Kuchu Documentary Trailer   \n",
       "\n",
       "                                         Description  \\\n",
       "0  From the bopic of Stephen Hawking, 'Hawking' (...   \n",
       "1  Finding Joy - Theatrical Trailer (2013) Movie ...   \n",
       "2  http://www.hollywood.com\\n\\n'Now Is Good' Trai...   \n",
       "3  DVD Release: October 2010\\n\\nBuy Now:http://sh...   \n",
       "4  CALL ME KUCHU TRAILER \\n\\nIn Uganda, a new bil...   \n",
       "\n",
       "                                            comments  View_Count  like_Count  \\\n",
       "0  {'comments': ['Doesn&#39;t work, I tried :/', ...       38078         205   \n",
       "1                    {'comments': [], 'replies': []}         903           3   \n",
       "2  {'comments': ['i know im little too lat ehere,...      218744         899   \n",
       "3  {'comments': ['Sadly, unless you have six-pack...       27136          28   \n",
       "4  {'comments': ['i&#39;m glad you are able to sh...       47973         182   \n",
       "\n",
       "   Dislike_Count  Comment_Count Duration  Fav_Count  Duration(in secs)  \\\n",
       "0              2             22   PT2M1S          0                121   \n",
       "1              1              0   PT2M8S          0                128   \n",
       "2             32            114  PT1M56S          0                116   \n",
       "3             11              5  PT1M29S          0                 89   \n",
       "4             11             14  PT4M38S          0                278   \n",
       "\n",
       "   Sentiment Score Sentiment  \n",
       "0             1.00  Positive  \n",
       "1             0.00   Neutral  \n",
       "2             1.00  Positive  \n",
       "3            -0.71  Negative  \n",
       "4             0.88  Positive  "
      ]
     },
     "execution_count": 178,
     "metadata": {},
     "output_type": "execute_result"
    }
   ],
   "source": [
    "df_extracted_2.head()"
   ]
  },
  {
   "cell_type": "code",
   "execution_count": 179,
   "metadata": {},
   "outputs": [],
   "source": [
    "df_extracted_2.to_csv('Youtube_Data_Extracted_Sentiment.csv')"
   ]
  },
  {
   "cell_type": "markdown",
   "metadata": {},
   "source": [
    "### Loading Saved Sentiment analyzed csv"
   ]
  },
  {
   "cell_type": "code",
   "execution_count": 180,
   "metadata": {},
   "outputs": [
    {
     "data": {
      "text/plain": [
       "(18896, 13)"
      ]
     },
     "execution_count": 180,
     "metadata": {},
     "output_type": "execute_result"
    }
   ],
   "source": [
    "df_extracted_sentiment = pd.read_csv('Youtube_Data_Extracted_Sentiment.csv',encoding='ISO-8859-1')\n",
    "df_extracted_sentiment.drop('Unnamed: 0', axis=1, inplace=True)\n",
    "df_extracted_sentiment.drop_duplicates(subset =\"YoutubeId\",\n",
    "                     keep = False, inplace = True)\n",
    "df_extracted_sentiment.shape"
   ]
  },
  {
   "cell_type": "code",
   "execution_count": 181,
   "metadata": {},
   "outputs": [],
   "source": [
    "top_10_positive = df_extracted_sentiment.sort_values(by=['Sentiment Score'], ascending=False).head(10)"
   ]
  },
  {
   "cell_type": "code",
   "execution_count": 182,
   "metadata": {
    "scrolled": true
   },
   "outputs": [
    {
     "data": {
      "image/png": "[encoded data removed]",
      "text/plain": [
       "<Figure size 1080x360 with 1 Axes>"
      ]
     },
     "metadata": {
      "needs_background": "light"
     },
     "output_type": "display_data"
    }
   ],
   "source": [
    "ax = top_10_positive.plot.bar(x='YoutubeId', y='Sentiment Score', rot=0, \n",
    "                 figsize=(15, 5), legend=True, fontsize=14, color ='grey')\n",
    "ax.set_xticklabels(labels=top_10_positive['YoutubeId'],rotation=45)\n",
    "ax.set_xlabel(\"Youtube Video Ids\", fontsize=16, labelpad=10, color='maroon')\n",
    "ax.set_ylabel(\"Sentiment Score\", fontsize=18, labelpad=5, color='salmon')\n",
    "ax.spines['right'].set_color('none')\n",
    "ax.spines['top'].set_color('none')\n",
    "plt.title(\"Top 10 Positive Comment Videos\", fontsize=16)\n",
    "plt.show()"
   ]
  },
  {
   "cell_type": "code",
   "execution_count": 183,
   "metadata": {},
   "outputs": [
    {
     "name": "stdout",
     "output_type": "stream",
     "text": [
      "Top 10 highest sentiment scored videos: ['How to Pickup Using the Theory of Relativity!', 'Passengers Trailer', 'Scaramouche (1952) Official Trailer - Stewart Granger, Janet Leigh Swashbuckler Movie HD', '\"NEVER ON SUNDAY\" TRAILER', \"Man's favorite sport\", 'Wild Child Trailer', 'Revolutionary Road, Leonardo DiCaprio and Kate Winslet together again!', \"Constantine's Sword Trailer\", 'WAR OF THE WORLDS 2: THE NEXT WAVE', '5 Centimeters Per Second Trailer']\n"
     ]
    }
   ],
   "source": [
    "labels = top_10_positive['Title'].values.tolist()\n",
    "print('Top 10 highest sentiment scored videos:', labels)"
   ]
  },
  {
   "cell_type": "code",
   "execution_count": 184,
   "metadata": {},
   "outputs": [
    {
     "name": "stderr",
     "output_type": "stream",
     "text": [
      "<ipython-input-184-4b79f329eacb>:15: UserWarning: FixedFormatter should only be used together with FixedLocator\n",
      "  ax.set_xticklabels(labels=top_10_positive['YoutubeId'],rotation=90, fontsize=16)\n"
     ]
    },
    {
     "data": {
      "image/png": "[encoded data removed]",
      "text/plain": [
       "<Figure size 1080x360 with 1 Axes>"
      ]
     },
     "metadata": {
      "needs_background": "light"
     },
     "output_type": "display_data"
    }
   ],
   "source": [
    "my_colors = ['black', 'red', 'green', 'blue', 'purple', 'grey', 'maroon', 'salmon', 'yellow','pink']\n",
    "\n",
    "f = plt.figure(figsize =(15, 5) )\n",
    "\n",
    "\n",
    "ax = plt.subplot(111) #specify a subplot\n",
    "\n",
    "count = 0\n",
    "for index, row in top_10_positive.iterrows():\n",
    "    ax.bar(row['YoutubeId'], row['Sentiment Score'], color =my_colors[count], label = labels[count])\n",
    "    count+=1\n",
    "    \n",
    "ax=plt.gca()\n",
    "\n",
    "ax.set_xticklabels(labels=top_10_positive['YoutubeId'],rotation=90, fontsize=16)\n",
    "\n",
    "ax.set_xlabel(\"Youtube Video Ids\", fontsize=18, labelpad=5, color='maroon')\n",
    "ax.set_ylabel(\"Sentiment Score\", fontsize=18, labelpad=5, color='maroon')\n",
    "ax.spines['right'].set_color('none')\n",
    "ax.spines['top'].set_color('none')\n",
    "plt.title(\"Top 10 positive sentiment videos\", fontsize=16)\n",
    "\n",
    "#plt.legend(labels,loc='best', frameon=False)#, bbox_to_anchor=(0.5, -0.5))\n",
    "plt.legend(labels, loc=\"lower center\",frameon=False, bbox_to_anchor=(0.3, -1.3))\n",
    "plt.show()"
   ]
  },
  {
   "cell_type": "code",
   "execution_count": null,
   "metadata": {},
   "outputs": [],
   "source": []
  }
 ],
 "metadata": {
  "kernelspec": {
   "display_name": "Python 3",
   "language": "python",
   "name": "python3"
  },
  "language_info": {
   "codemirror_mode": {
    "name": "ipython",
    "version": 3
   },
   "file_extension": ".py",
   "mimetype": "text/x-python",
   "name": "python",
   "nbconvert_exporter": "python",
   "pygments_lexer": "ipython3",
   "version": "3.8.5"
  }
 },
 "nbformat": 4,
 "nbformat_minor": 4
}
